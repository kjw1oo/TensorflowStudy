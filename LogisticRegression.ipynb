{
 "cells": [
  {
   "cell_type": "markdown",
   "metadata": {},
   "source": [
    "\n",
    "# Logistic Regression\n"
   ]
  },
  {
   "cell_type": "code",
   "execution_count": 1,
   "metadata": {
    "collapsed": true
   },
   "outputs": [],
   "source": [
    "import tensorflow as tf\n",
    "import pandas as pd\n",
    "import numpy as np"
   ]
  },
  {
   "cell_type": "code",
   "execution_count": 2,
   "metadata": {},
   "outputs": [
    {
     "name": "stdout",
     "output_type": "stream",
     "text": [
      "[[ 22.  28.]\n",
      " [ 49.  64.]]\n"
     ]
    }
   ],
   "source": [
    "\n",
    "h = tf.constant([1.0, 2.0, 3.0, 4.0, 5.0, 6.0], shape=[2, 3], name='a')\n",
    "j = tf.constant([1.0, 2.0, 3.0, 4.0, 5.0, 6.0], shape=[3, 2], name='b')\n",
    "k = tf.matmul(h, j)\n",
    "\n",
    "sess = tf.Session(config=tf.ConfigProto(log_device_placement=True))\n",
    "print(sess.run(k))"
   ]
  },
  {
   "cell_type": "code",
   "execution_count": 3,
   "metadata": {},
   "outputs": [
    {
     "data": {
      "text/plain": [
       "array([[ 22.,  28.],\n",
       "       [ 49.,  64.]], dtype=float32)"
      ]
     },
     "execution_count": 3,
     "metadata": {},
     "output_type": "execute_result"
    }
   ],
   "source": [
    "import tensorflow as tf\n",
    "\n",
    "with tf.device('/cpu:0'):\n",
    "    a = tf.constant([1.0, 2.0, 3.0, 4.0, 5.0, 6.0], shape=[2, 3], name='a')\n",
    "    b = tf.constant([1.0, 2.0, 3.0, 4.0, 5.0, 6.0], shape=[3, 2], name='b')\n",
    "    c = tf.matmul(a, b)\n",
    "sess = tf.Session(config=tf.ConfigProto(log_device_placement=True))\n",
    "sess.run(c)"
   ]
  },
  {
   "cell_type": "code",
   "execution_count": 10,
   "metadata": {},
   "outputs": [
    {
     "name": "stdout",
     "output_type": "stream",
     "text": [
      "0 4.48175\n",
      "200 0.533233\n",
      "400 0.460121\n",
      "600 0.422975\n",
      "800 0.399549\n",
      "1000 0.382163\n",
      "1200 0.367825\n",
      "1400 0.35524\n",
      "1600 0.343793\n",
      "1800 0.333173\n",
      "2000 0.323209\n",
      "2200 0.313799\n",
      "2400 0.304879\n",
      "2600 0.296405\n",
      "2800 0.28834\n",
      "3000 0.280657\n",
      "3200 0.273331\n",
      "3400 0.266341\n",
      "3600 0.259667\n",
      "3800 0.25329\n",
      "4000 0.247194\n",
      "4200 0.241363\n",
      "4400 0.235782\n",
      "4600 0.230436\n",
      "4800 0.225313\n",
      "5000 0.220401\n",
      "5200 0.215688\n",
      "5400 0.211163\n",
      "5600 0.206817\n",
      "5800 0.202638\n",
      "6000 0.19862\n",
      "6200 0.194753\n",
      "6400 0.19103\n",
      "6600 0.187443\n",
      "6800 0.183985\n",
      "7000 0.18065\n",
      "7200 0.177431\n",
      "7400 0.174324\n",
      "7600 0.171322\n",
      "7800 0.168421\n",
      "8000 0.165616\n",
      "8200 0.162902\n",
      "8400 0.160276\n",
      "8600 0.157732\n",
      "8800 0.155268\n",
      "9000 0.15288\n",
      "9200 0.150564\n",
      "9400 0.148318\n",
      "9600 0.146137\n",
      "9800 0.144021\n",
      "10000 0.141965\n",
      "\n",
      "Accruacy :  1.0\n"
     ]
    }
   ],
   "source": [
    "x_data = [[1, 2], [2, 3], [3, 1], [4, 3], [5, 3], [6,2]]\n",
    "y_data = [[0], [0], [0], [1], [1], [1]]\n",
    "with tf.device('/cpu:0'):\n",
    "    X = tf.placeholder(tf.float32, shape=[None, 2])\n",
    "    Y = tf.placeholder(tf.float32, shape=[None, 1])\n",
    "    W = tf.Variable(tf.random_normal([2, 1]), name = 'weight')\n",
    "    b = tf.Variable(tf.random_normal([1]), name = 'bias')\n",
    "\n",
    "    #Hypothesis using sigmoid tf.sigmoid(WX + b)\n",
    "    hypothesis = tf.sigmoid(tf.matmul(X, W) + b)\n",
    "\n",
    "    #cost/ Loss Function\n",
    "    cost = -tf.reduce_mean(Y * tf.log(hypothesis) + (1 - Y) * tf.log(1 - hypothesis))\n",
    "\n",
    "    train = tf.train.GradientDescentOptimizer(learning_rate = 0.01).minimize(cost)\n",
    "\n",
    "    #Accuracy Compututation\n",
    "    # True if hypothesis > 0.5 else False\n",
    "    # hypothesis > 0.5가 True이면 1.0을 리턴하고, 아니면 0.0을 리턴하게 된다. \n",
    "    predicted = tf.cast(hypothesis > 0.5, dtype = tf.float32)\n",
    "    # 맞았으면 1, 아니면 0을 반환하여 그것을 평균을 정확도로 측정\n",
    "    accuracy = tf.reduce_mean(tf.cast(tf.equal(predicted, Y), dtype=tf.float32))\n",
    "\n",
    "# Launch graph\n",
    "sess = tf.Session()\n",
    "sess.run(tf.global_variables_initializer())\n",
    "\n",
    "for step in range(10001):\n",
    "    cost_val, _ = sess.run([cost, train], feed_dict = {X : x_data, Y : y_data})\n",
    "    if step % 200 == 0:\n",
    "        print(step, cost_val)\n",
    "#Accuracy report\n",
    "h, c, a = sess.run([hypothesis, predicted, accuracy], feed_dict = {X:x_data, Y:y_data})\n",
    "print(\"\\nAccruacy : \", a)"
   ]
  },
  {
   "cell_type": "code",
   "execution_count": 11,
   "metadata": {
    "scrolled": false
   },
   "outputs": [
    {
     "name": "stdout",
     "output_type": "stream",
     "text": [
      "(759, 8) (759, 1)\n",
      "0 0.927192\n",
      "200 0.672242\n",
      "400 0.625737\n",
      "600 0.60883\n",
      "800 0.597335\n",
      "1000 0.587496\n",
      "1200 0.578622\n",
      "1400 0.570536\n",
      "1600 0.563154\n",
      "1800 0.55641\n",
      "2000 0.550248\n",
      "2200 0.544613\n",
      "2400 0.539457\n",
      "2600 0.534734\n",
      "2800 0.530405\n",
      "3000 0.526432\n",
      "3200 0.522782\n",
      "3400 0.519425\n",
      "3600 0.516333\n",
      "3800 0.513482\n",
      "4000 0.510851\n",
      "4200 0.508419\n",
      "4400 0.506169\n",
      "4600 0.504085\n",
      "4800 0.502153\n",
      "5000 0.500359\n",
      "5200 0.498692\n",
      "5400 0.497141\n",
      "5600 0.495697\n",
      "5800 0.494352\n",
      "6000 0.493096\n",
      "6200 0.491924\n",
      "6400 0.490828\n",
      "6600 0.489804\n",
      "6800 0.488844\n",
      "7000 0.487945\n",
      "7200 0.487103\n",
      "7400 0.486312\n",
      "7600 0.48557\n",
      "7800 0.484872\n",
      "8000 0.484216\n",
      "8200 0.483599\n",
      "8400 0.483017\n",
      "8600 0.48247\n",
      "8800 0.481954\n",
      "9000 0.481467\n",
      "9200 0.481007\n",
      "9400 0.480573\n",
      "9600 0.480163\n",
      "9800 0.479776\n",
      "10000 0.479409\n",
      "\n",
      "Accuracy:  0.776021\n"
     ]
    }
   ],
   "source": [
    "xy = np.loadtxt('./data-03-diabetes.csv', delimiter = ',', dtype=np.float32)\n",
    "x_data = xy[:, 0:-1]\n",
    "y_data = xy[:, [-1]]\n",
    "\n",
    "print(x_data.shape, y_data.shape)\n",
    "with tf.device('/cpu:0'):\n",
    "    # placeholders for a tensor that will be always fed.\n",
    "    X = tf.placeholder(tf.float32, shape=[None, 8])\n",
    "    Y = tf.placeholder(tf.float32, shape=[None, 1])\n",
    "\n",
    "    W = tf.Variable(tf.random_normal([8, 1]), name='weight')\n",
    "    b = tf.Variable(tf.random_normal([1]), name='bias')\n",
    "\n",
    "    hypothesis = tf.sigmoid(tf.matmul(X, W) + b)\n",
    "\n",
    "    cost = -tf.reduce_mean(Y * tf.log(hypothesis) + (1 - Y) * tf.log(1 - hypothesis))\n",
    "\n",
    "    train = tf.train.GradientDescentOptimizer(learning_rate=0.01).minimize(cost)\n",
    "\n",
    "    predicted = tf.cast(hypothesis > 0.5, dtype=tf.float32)\n",
    "    accuracy = tf.reduce_mean(tf.cast(tf.equal(predicted, Y), dtype=tf.float32))\n",
    "\n",
    "\n",
    "with tf.Session() as sess:\n",
    "    \n",
    "    sess.run(tf.global_variables_initializer())\n",
    "\n",
    "    for step in range(10001):\n",
    "        cost_val, _ = sess.run([cost, train], feed_dict={X: x_data, Y: y_data})\n",
    "        if step % 200 == 0:\n",
    "            print(step, cost_val)\n",
    "\n",
    "    h, c, a = sess.run([hypothesis, predicted, accuracy],\n",
    "                       feed_dict={X: x_data, Y: y_data})\n",
    "    print(\"\\nAccuracy: \", a)"
   ]
  },
  {
   "cell_type": "code",
   "execution_count": null,
   "metadata": {
    "collapsed": true
   },
   "outputs": [],
   "source": []
  }
 ],
 "metadata": {
  "kernelspec": {
   "display_name": "Python 3",
   "language": "python",
   "name": "python3"
  },
  "language_info": {
   "codemirror_mode": {
    "name": "ipython",
    "version": 3
   },
   "file_extension": ".py",
   "mimetype": "text/x-python",
   "name": "python",
   "nbconvert_exporter": "python",
   "pygments_lexer": "ipython3",
   "version": "3.6.0"
  }
 },
 "nbformat": 4,
 "nbformat_minor": 2
}
