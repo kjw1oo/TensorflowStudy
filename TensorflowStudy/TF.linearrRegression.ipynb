{
 "cells": [
  {
   "cell_type": "code",
   "execution_count": 3,
   "metadata": {
    "collapsed": false
   },
   "outputs": [],
   "source": [
    "import tensorflow as tf"
   ]
  },
  {
   "cell_type": "code",
   "execution_count": 4,
   "metadata": {
    "collapsed": false
   },
   "outputs": [
    {
     "data": {
      "text/plain": [
       "'1.3.0'"
      ]
     },
     "execution_count": 4,
     "metadata": {},
     "output_type": "execute_result"
    }
   ],
   "source": [
    "tf.__version__"
   ]
  },
  {
   "cell_type": "code",
   "execution_count": 5,
   "metadata": {
    "collapsed": false
   },
   "outputs": [],
   "source": [
    "helli = tf.constant(\"Hello, Tensorflow\")"
   ]
  },
  {
   "cell_type": "markdown",
   "metadata": {},
   "source": [
    "# Tensorflow의 구동원리\n",
    "\n",
    "- Tensorflow는 tensor라고하는 데이터(edge)가 operation등이 들어있는 Node를 통해 흐른다고 하여 Tensorflow라고한다. 따라서 Edge와 Node가 있는 Graph로 작동한다.\n",
    "- 따라서 위와같이 tf.constant를 해서 NOde를 만들더라도 단순히 print하여도 원하는 값이 나오지 않고,node의 실행을 위한 Session이 필요하다. \n",
    "- 따라서 먼저 Graph를 구성하고 Session을 통해서 Graph를 실행하는 것이 가장 큰 틀이라고 할 수 있다.\n"
   ]
  },
  {
   "cell_type": "code",
   "execution_count": 6,
   "metadata": {
    "collapsed": false
   },
   "outputs": [
    {
     "name": "stdout",
     "output_type": "stream",
     "text": [
      "b'Hello, Tensorflow'\n"
     ]
    }
   ],
   "source": [
    "sess = tf.Session()\n",
    "print(sess.run(helli))"
   ]
  },
  {
   "cell_type": "code",
   "execution_count": 7,
   "metadata": {
    "collapsed": true
   },
   "outputs": [],
   "source": [
    "node1 = tf.constant(3.0, tf.float32)\n",
    "node2 = tf.constant(4.0)\n",
    "node3 = tf.add(node1, node2)"
   ]
  },
  {
   "cell_type": "code",
   "execution_count": 8,
   "metadata": {
    "collapsed": false
   },
   "outputs": [
    {
     "name": "stdout",
     "output_type": "stream",
     "text": [
      "node1 :  Tensor(\"Const_1:0\", shape=(), dtype=float32) node2 :  Tensor(\"Const_2:0\", shape=(), dtype=float32) node3 :  Tensor(\"Add:0\", shape=(), dtype=float32)\n"
     ]
    }
   ],
   "source": [
    "print(\"node1 : \", node1, \"node2 : \", node2, \"node3 : \", node3)"
   ]
  },
  {
   "cell_type": "code",
   "execution_count": 9,
   "metadata": {
    "collapsed": false
   },
   "outputs": [
    {
     "name": "stdout",
     "output_type": "stream",
     "text": [
      "sess.run(node1, node2):  [3.0, 4.0]\n",
      "sess.run(node3) :  7.0\n"
     ]
    }
   ],
   "source": [
    "sess = tf.Session()\n",
    "print(\"sess.run(node1, node2): \", sess.run([node1, node2]))\n",
    "print(\"sess.run(node3) : \", sess.run(node3))"
   ]
  },
  {
   "cell_type": "code",
   "execution_count": 10,
   "metadata": {
    "collapsed": false
   },
   "outputs": [
    {
     "name": "stdout",
     "output_type": "stream",
     "text": [
      "7.5\n",
      "[ 3.  7.]\n"
     ]
    }
   ],
   "source": [
    "a = tf.placeholder(tf.float32)\n",
    "b = tf.placeholder(tf.float32)\n",
    "adder_node = a + b\n",
    "\n",
    "print(sess.run(adder_node, feed_dict = {a: 3, b: 4.5}))\n",
    "print(sess.run(adder_node, feed_dict = {a: [1, 3], b: [2, 4]}))"
   ]
  },
  {
   "cell_type": "markdown",
   "metadata": {},
   "source": [
    "# 간단한 Linear Regression\n"
   ]
  },
  {
   "cell_type": "markdown",
   "metadata": {},
   "source": [
    "## hypothesis and cost function\n",
    "- H(x) = Wx + b\n",
    "- minimize cost(W,b)"
   ]
  },
  {
   "cell_type": "markdown",
   "metadata": {},
   "source": [
    "1. H(x) = Wx + b"
   ]
  },
  {
   "cell_type": "code",
   "execution_count": 11,
   "metadata": {
    "collapsed": true
   },
   "outputs": [],
   "source": [
    "# X and Y data\n",
    "x_train = [1, 2, 3]\n",
    "y_train = [1, 2, 3]\n",
    "\n",
    "#Variable은 tensorflow가 사용하는 Variable이다\n",
    "#tf.random_normal([1]) rank가 1인(scalar) 랜덤한 숫자를 만든다.\n",
    "W = tf.Variable(tf.random_normal([1]), name = 'weight')\n",
    "b = tf.Variable(tf.random_normal([1]), name = 'bias')\n",
    "\n",
    "#Our hypothesis XW + b\n",
    "hypothesis = x_train * W + b"
   ]
  },
  {
   "cell_type": "markdown",
   "metadata": {},
   "source": [
    "2. cost(W,b) = 1/m*summation(H(x)-y)^2"
   ]
  },
  {
   "cell_type": "code",
   "execution_count": 12,
   "metadata": {
    "collapsed": true
   },
   "outputs": [],
   "source": [
    "#cost/Loss function\n",
    "cost = tf.reduce_mean(tf.square(hypothesis - y_train))"
   ]
  },
  {
   "cell_type": "markdown",
   "metadata": {},
   "source": [
    "GradientDescent"
   ]
  },
  {
   "cell_type": "code",
   "execution_count": 13,
   "metadata": {
    "collapsed": true
   },
   "outputs": [],
   "source": [
    "#Minimize\n",
    "optimizer = tf.train.GradientDescentOptimizer(learning_rate = 0.01)\n",
    "train = optimizer.minimize(cost)"
   ]
  },
  {
   "cell_type": "code",
   "execution_count": 14,
   "metadata": {
    "collapsed": false
   },
   "outputs": [
    {
     "name": "stdout",
     "output_type": "stream",
     "text": [
      "0 6.54487 [-0.23364004] [ 0.11562375]\n",
      "20 0.0985823 [ 0.67440444] [ 0.48413622]\n",
      "40 0.0365339 [ 0.77064908] [ 0.49699053]\n",
      "60 0.0327002 [ 0.78913498] [ 0.47702435]\n",
      "80 0.0296944 [ 0.79977876] [ 0.45492887]\n",
      "100 0.0269689 [ 0.80925834] [ 0.43357962]\n",
      "120 0.0244936 [ 0.81822908] [ 0.41320589]\n",
      "140 0.0222455 [ 0.82677227] [ 0.39378703]\n",
      "160 0.0202037 [ 0.83491337] [ 0.37528062]\n",
      "180 0.0183494 [ 0.84267187] [ 0.35764381]\n",
      "200 0.0166652 [ 0.85006571] [ 0.3408359]\n",
      "220 0.0151356 [ 0.85711217] [ 0.32481781]\n",
      "240 0.0137464 [ 0.86382729] [ 0.30955249]\n",
      "260 0.0124847 [ 0.87022692] [ 0.29500473]\n",
      "280 0.0113388 [ 0.87632579] [ 0.28114057]\n",
      "300 0.0102981 [ 0.88213801] [ 0.26792803]\n",
      "320 0.00935288 [ 0.88767707] [ 0.25533637]\n",
      "340 0.00849441 [ 0.8929559] [ 0.24333647]\n",
      "360 0.00771478 [ 0.89798647] [ 0.23190057]\n",
      "380 0.00700668 [ 0.90278077] [ 0.2210021]\n",
      "400 0.00636358 [ 0.90734977] [ 0.21061583]\n",
      "420 0.0057795 [ 0.911704] [ 0.20071761]\n",
      "440 0.00524903 [ 0.91585356] [ 0.19128463]\n",
      "460 0.00476725 [ 0.91980815] [ 0.18229496]\n",
      "480 0.00432969 [ 0.92357695] [ 0.17372775]\n",
      "500 0.0039323 [ 0.92716849] [ 0.16556318]\n",
      "520 0.00357138 [ 0.93059129] [ 0.15778232]\n",
      "540 0.00324358 [ 0.93385321] [ 0.15036713]\n",
      "560 0.00294587 [ 0.93696189] [ 0.14330043]\n",
      "580 0.00267549 [ 0.93992442] [ 0.13656589]\n",
      "600 0.00242992 [ 0.94274777] [ 0.13014781]\n",
      "620 0.0022069 [ 0.94543839] [ 0.12403136]\n",
      "640 0.00200434 [ 0.94800252] [ 0.11820234]\n",
      "660 0.00182037 [ 0.95044625] [ 0.11264732]\n",
      "680 0.00165329 [ 0.95277506] [ 0.10735331]\n",
      "700 0.00150155 [ 0.9549945] [ 0.10230812]\n",
      "720 0.00136373 [ 0.95710957] [ 0.09750002]\n",
      "740 0.00123856 [ 0.95912528] [ 0.09291789]\n",
      "760 0.00112488 [ 0.96104628] [ 0.08855104]\n",
      "780 0.00102163 [ 0.96287698] [ 0.08438943]\n",
      "800 0.00092786 [ 0.96462166] [ 0.08042341]\n",
      "820 0.000842702 [ 0.96628428] [ 0.07664378]\n",
      "840 0.000765355 [ 0.96786875] [ 0.07304182]\n",
      "860 0.000695105 [ 0.96937877] [ 0.06960917]\n",
      "880 0.00063131 [ 0.97081792] [ 0.06633779]\n",
      "900 0.000573365 [ 0.97218931] [ 0.06322016]\n",
      "920 0.000520738 [ 0.97349638] [ 0.06024904]\n",
      "940 0.000472941 [ 0.97474194] [ 0.05741757]\n",
      "960 0.000429534 [ 0.97592896] [ 0.05471916]\n",
      "980 0.000390109 [ 0.97706014] [ 0.05214759]\n",
      "1000 0.000354304 [ 0.97813827] [ 0.04969686]\n",
      "1020 0.000321785 [ 0.97916561] [ 0.04736129]\n",
      "1040 0.000292252 [ 0.98014486] [ 0.04513555]\n",
      "1060 0.000265428 [ 0.98107803] [ 0.04301431]\n",
      "1080 0.000241065 [ 0.98196727] [ 0.04099277]\n",
      "1100 0.000218939 [ 0.98281473] [ 0.03906624]\n",
      "1120 0.000198844 [ 0.98362237] [ 0.03723026]\n",
      "1140 0.000180594 [ 0.98439211] [ 0.03548057]\n",
      "1160 0.000164018 [ 0.98512554] [ 0.03381311]\n",
      "1180 0.000148964 [ 0.98582458] [ 0.03222402]\n",
      "1200 0.000135291 [ 0.98649079] [ 0.03070962]\n",
      "1220 0.000122873 [ 0.98712564] [ 0.02926639]\n",
      "1240 0.000111596 [ 0.98773068] [ 0.02789098]\n",
      "1260 0.000101353 [ 0.9883073] [ 0.02658021]\n",
      "1280 9.20507e-05 [ 0.98885685] [ 0.02533107]\n",
      "1300 8.36024e-05 [ 0.98938042] [ 0.02414061]\n",
      "1320 7.59297e-05 [ 0.98987937] [ 0.02300621]\n",
      "1340 6.89598e-05 [ 0.99035525] [ 0.02192503]\n",
      "1360 6.26312e-05 [ 0.99080849] [ 0.02089459]\n",
      "1380 5.68823e-05 [ 0.99124044] [ 0.0199126]\n",
      "1400 5.16612e-05 [ 0.99165207] [ 0.01897677]\n",
      "1420 4.69195e-05 [ 0.99204439] [ 0.01808494]\n",
      "1440 4.26132e-05 [ 0.99241829] [ 0.01723503]\n",
      "1460 3.87011e-05 [ 0.99277461] [ 0.01642504]\n",
      "1480 3.51494e-05 [ 0.99311411] [ 0.01565311]\n",
      "1500 3.19238e-05 [ 0.99343777] [ 0.01491749]\n",
      "1520 2.89938e-05 [ 0.99374616] [ 0.01421643]\n",
      "1540 2.63315e-05 [ 0.99404013] [ 0.01354831]\n",
      "1560 2.39154e-05 [ 0.99432015] [ 0.01291158]\n",
      "1580 2.17201e-05 [ 0.99458706] [ 0.0123048]\n",
      "1600 1.97269e-05 [ 0.99484152] [ 0.01172653]\n",
      "1620 1.79166e-05 [ 0.99508399] [ 0.0111754]\n",
      "1640 1.62719e-05 [ 0.99531496] [ 0.01065018]\n",
      "1660 1.47779e-05 [ 0.99553519] [ 0.01014965]\n",
      "1680 1.34213e-05 [ 0.995745] [ 0.00967263]\n",
      "1700 1.21901e-05 [ 0.99594498] [ 0.00921805]\n",
      "1720 1.1071e-05 [ 0.99613559] [ 0.0087848]\n",
      "1740 1.00549e-05 [ 0.99631715] [ 0.00837194]\n",
      "1760 9.13216e-06 [ 0.99649024] [ 0.0079785]\n",
      "1780 8.29382e-06 [ 0.99665517] [ 0.00760355]\n",
      "1800 7.53264e-06 [ 0.99681234] [ 0.00724622]\n",
      "1820 6.84112e-06 [ 0.99696219] [ 0.00690567]\n",
      "1840 6.2133e-06 [ 0.99710494] [ 0.00658113]\n",
      "1860 5.64298e-06 [ 0.99724102] [ 0.00627185]\n",
      "1880 5.12535e-06 [ 0.9973706] [ 0.00597711]\n",
      "1900 4.65457e-06 [ 0.99749422] [ 0.00569623]\n",
      "1920 4.22752e-06 [ 0.997612] [ 0.00542851]\n",
      "1940 3.83942e-06 [ 0.99772418] [ 0.0051734]\n",
      "1960 3.48715e-06 [ 0.99783117] [ 0.00493028]\n",
      "1980 3.16717e-06 [ 0.99793309] [ 0.0046986]\n",
      "2000 2.8764e-06 [ 0.99803025] [ 0.00447778]\n"
     ]
    }
   ],
   "source": [
    "# Launch the graph in a session\n",
    "sess = tf.Session()\n",
    "#Initializes global variables in the graph\n",
    "sess.run(tf.global_variables_initializer())\n",
    "\n",
    "#fit the Line\n",
    "for step in range(2001):\n",
    "    sess.run(train)\n",
    "    # 경사 하강법 20회에 한번씩 출력\n",
    "    if step % 20 == 0:\n",
    "        print(step, sess.run(cost), sess.run(W), sess.run(b))"
   ]
  },
  {
   "cell_type": "code",
   "execution_count": 15,
   "metadata": {
    "collapsed": false
   },
   "outputs": [
    {
     "name": "stdout",
     "output_type": "stream",
     "text": [
      "0 67.0786 [-0.27414393] [-1.08260274]\n",
      "20 0.463493 [ 1.4319762] [-0.49020731]\n",
      "40 0.403586 [ 1.41101515] [-0.38403329]\n",
      "60 0.352455 [ 1.38413048] [-0.28683358]\n",
      "80 0.307801 [ 1.35897362] [-0.19600879]\n",
      "100 0.268805 [ 1.33546412] [-0.11113214]\n",
      "120 0.23475 [ 1.31349432] [-0.03181414]\n",
      "140 0.205009 [ 1.29296339] [ 0.04230924]\n",
      "160 0.179036 [ 1.27377701] [ 0.11157823]\n",
      "180 0.156353 [ 1.2558471] [ 0.17631073]\n",
      "200 0.136544 [ 1.23909152] [ 0.23680383]\n",
      "220 0.119245 [ 1.22343314] [ 0.2933352]\n",
      "240 0.104138 [ 1.20880044] [ 0.34616432]\n",
      "260 0.0909442 [ 1.19512582] [ 0.39553362]\n",
      "280 0.0794222 [ 1.18234694] [ 0.44166976]\n",
      "300 0.0693601 [ 1.17040491] [ 0.48478436]\n",
      "320 0.0605727 [ 1.15924489] [ 0.52507526]\n",
      "340 0.0528985 [ 1.14881575] [ 0.56272763]\n",
      "360 0.0461967 [ 1.13906968] [ 0.59791404]\n",
      "380 0.0403439 [ 1.12996185] [ 0.63079625]\n",
      "400 0.0352326 [ 1.12145054] [ 0.66152477]\n",
      "420 0.0307689 [ 1.11349666] [ 0.69024086]\n",
      "440 0.0268707 [ 1.10606372] [ 0.71707636]\n",
      "460 0.0234664 [ 1.0991174] [ 0.74215436]\n",
      "480 0.0204933 [ 1.09262621] [ 0.76559001]\n",
      "500 0.017897 [ 1.08656001] [ 0.78749073]\n",
      "520 0.0156296 [ 1.08089113] [ 0.80795711]\n",
      "540 0.0136495 [ 1.07559347] [ 0.82708329]\n",
      "560 0.0119201 [ 1.07064283] [ 0.84495682]\n",
      "580 0.01041 [ 1.06601644] [ 0.86165982]\n",
      "600 0.00909108 [ 1.06169295] [ 0.87726885]\n",
      "620 0.00793932 [ 1.05765259] [ 0.89185572]\n",
      "640 0.00693347 [ 1.053877] [ 0.90548724]\n",
      "660 0.00605505 [ 1.0503484] [ 0.91822594]\n",
      "680 0.00528792 [ 1.04705107] [ 0.93013048]\n",
      "700 0.00461798 [ 1.04396975] [ 0.94125539]\n",
      "720 0.00403293 [ 1.04109025] [ 0.95165151]\n",
      "740 0.00352199 [ 1.0383991] [ 0.96136707]\n",
      "760 0.00307578 [ 1.03588426] [ 0.97044629]\n",
      "780 0.00268609 [ 1.03353429] [ 0.97893083]\n",
      "800 0.0023458 [ 1.0313381] [ 0.98685956]\n",
      "820 0.0020486 [ 1.02928579] [ 0.99426919]\n",
      "840 0.00178905 [ 1.02736783] [ 1.00119364]\n",
      "860 0.00156241 [ 1.02557552] [ 1.00766444]\n",
      "880 0.00136446 [ 1.02390039] [ 1.01371169]\n",
      "900 0.00119159 [ 1.02233517] [ 1.01936281]\n",
      "920 0.00104063 [ 1.02087259] [ 1.02464366]\n",
      "940 0.000908785 [ 1.0195055] [ 1.02957869]\n",
      "960 0.000793647 [ 1.01822805] [ 1.03419077]\n",
      "980 0.0006931 [ 1.01703441] [ 1.03850055]\n",
      "1000 0.000605292 [ 1.01591873] [ 1.04252815]\n",
      "1020 0.000528604 [ 1.01487625] [ 1.04629195]\n",
      "1040 0.000461634 [ 1.01390195] [ 1.04980946]\n",
      "1060 0.000403153 [ 1.01299143] [ 1.05309641]\n",
      "1080 0.00035207 [ 1.01214075] [ 1.05616808]\n",
      "1100 0.000307462 [ 1.01134562] [ 1.05903912]\n",
      "1120 0.000268507 [ 1.01060236] [ 1.06172156]\n",
      "1140 0.000234493 [ 1.00990796] [ 1.06422842]\n",
      "1160 0.000204782 [ 1.00925922] [ 1.06657124]\n",
      "1180 0.000178838 [ 1.00865281] [ 1.06876051]\n",
      "1200 0.000156181 [ 1.00808609] [ 1.07080638]\n",
      "1220 0.000136395 [ 1.00755656] [ 1.07271826]\n",
      "1240 0.000119114 [ 1.0070616] [ 1.07450509]\n",
      "1260 0.000104021 [ 1.00659907] [ 1.07617486]\n",
      "1280 9.08429e-05 [ 1.00616693] [ 1.07773519]\n",
      "1300 7.9336e-05 [ 1.00576317] [ 1.079193]\n",
      "1320 6.92854e-05 [ 1.00538588] [ 1.08055556]\n",
      "1340 6.05078e-05 [ 1.00503302] [ 1.08182907]\n",
      "1360 5.28408e-05 [ 1.0047034] [ 1.08301914]\n",
      "1380 4.61464e-05 [ 1.00439537] [ 1.08413136]\n",
      "1400 4.02981e-05 [ 1.00410748] [ 1.08517063]\n",
      "1420 3.51933e-05 [ 1.00383854] [ 1.08614182]\n",
      "1440 3.07347e-05 [ 1.00358713] [ 1.08704948]\n",
      "1460 2.68408e-05 [ 1.00335217] [ 1.08789766]\n",
      "1480 2.34407e-05 [ 1.0031327] [ 1.08869016]\n",
      "1500 2.04708e-05 [ 1.00292754] [ 1.08943081]\n",
      "1520 1.78747e-05 [ 1.00273561] [ 1.09012341]\n",
      "1540 1.56114e-05 [ 1.00255656] [ 1.09077013]\n",
      "1560 1.36326e-05 [ 1.00238907] [ 1.09137464]\n",
      "1580 1.19058e-05 [ 1.00223255] [ 1.09193957]\n",
      "1600 1.03975e-05 [ 1.0020864] [ 1.09246743]\n",
      "1620 9.08064e-06 [ 1.00194967] [ 1.09296072]\n",
      "1640 7.93e-06 [ 1.00182211] [ 1.0934217]\n",
      "1660 6.92552e-06 [ 1.00170279] [ 1.09385252]\n",
      "1680 6.04737e-06 [ 1.00159132] [ 1.09425509]\n",
      "1700 5.28175e-06 [ 1.00148702] [ 1.09463131]\n",
      "1720 4.61245e-06 [ 1.00138962] [ 1.09498298]\n",
      "1740 4.02849e-06 [ 1.00129879] [ 1.09531128]\n",
      "1760 3.51811e-06 [ 1.00121355] [ 1.09561837]\n",
      "1780 3.07278e-06 [ 1.00113428] [ 1.09590518]\n",
      "1800 2.68347e-06 [ 1.00106001] [ 1.09617329]\n",
      "1820 2.34371e-06 [ 1.00099063] [ 1.09642375]\n",
      "1840 2.04707e-06 [ 1.00092578] [ 1.09665775]\n",
      "1860 1.78752e-06 [ 1.0008651] [ 1.0968765]\n",
      "1880 1.56135e-06 [ 1.0008086] [ 1.09708107]\n",
      "1900 1.36353e-06 [ 1.00075555] [ 1.09727216]\n",
      "1920 1.19081e-06 [ 1.0007062] [ 1.09745085]\n",
      "1940 1.03974e-06 [ 1.00065982] [ 1.09761775]\n",
      "1960 9.0817e-07 [ 1.00061667] [ 1.09777367]\n",
      "1980 7.93234e-07 [ 1.00057626] [ 1.09791934]\n",
      "2000 6.92756e-07 [ 1.00053859] [ 1.0980556]\n"
     ]
    }
   ],
   "source": [
    "#placeholders를 사용해봅시다\n",
    "#placeholders를 이용하면 먼저 알고리즘을 만들고 나중에 데이터를 집어넣기 용이하다. \n",
    "#Shape = [None]는 몇차원데이터든 상관없다 이경우 2\n",
    "X = tf.placeholder(tf.float32, shape = [None])\n",
    "Y = tf.placeholder(tf.float32, shape = [None])\n",
    "W = tf.Variable(tf.random_normal([1]), name = 'weight')\n",
    "b = tf.Variable(tf.random_normal([1]), name = 'bias')\n",
    "\n",
    "#Our hypothesis XW + b\n",
    "hypothesis = X * W + b\n",
    "#cost/Loss function\n",
    "cost = tf.reduce_mean(tf.square(hypothesis - Y))\n",
    "\n",
    "optimizer = tf.train.GradientDescentOptimizer(learning_rate = 0.01)\n",
    "train = optimizer.minimize(cost)\n",
    "\n",
    "\n",
    "sess = tf.Session()\n",
    "#Initializes global variables in the graph\n",
    "sess.run(tf.global_variables_initializer())\n",
    "for step in range(2001):\n",
    "    cost_val, W_val, b_val, _ = sess.run([cost, W, b, train], feed_dict={X: [1, 2, 3, 4, 5], Y: [2.1, 3.1, 4.1, 5.1, 6.1]})\n",
    "    if step % 20 == 0:\n",
    "        print(step, cost_val, W_val, b_val)\n",
    "    "
   ]
  },
  {
   "cell_type": "code",
   "execution_count": 16,
   "metadata": {
    "collapsed": false
   },
   "outputs": [
    {
     "name": "stdout",
     "output_type": "stream",
     "text": [
      "[ 6.10074902]\n",
      "[ 3.59940219]\n",
      "[ 2.5988636  4.5999403]\n"
     ]
    }
   ],
   "source": [
    "# testing our model\n",
    "print(sess.run(hypothesis, feed_dict = {X: [5]}))\n",
    "print(sess.run(hypothesis, feed_dict = {X: [2.5]}))\n",
    "print(sess.run(hypothesis, feed_dict = {X: [1.5, 3.5]}))"
   ]
  },
  {
   "cell_type": "markdown",
   "metadata": {},
   "source": [
    "# Minimizing Cost\n",
    "- gradient descent"
   ]
  },
  {
   "cell_type": "code",
   "execution_count": 17,
   "metadata": {
    "collapsed": false
   },
   "outputs": [
    {
     "data": {
      "image/png": "[encoded data removed]",
      "text/plain": [
       "<matplotlib.figure.Figure at 0x25ecf49c2b0>"
      ]
     },
     "metadata": {},
     "output_type": "display_data"
    }
   ],
   "source": [
    "import matplotlib.pyplot as plt\n",
    "\n",
    "X = [1, 2, 3]\n",
    "Y = [1, 2, 3]\n",
    "W= tf.placeholder(tf.float32)\n",
    "hypothesis = X * W\n",
    "#cost function\n",
    "cost = tf.reduce_mean(tf.square(hypothesis - Y))\n",
    "#Launch the graph in the graph\n",
    "sess = tf.Session()\n",
    "#Initialize global variables in the graph\n",
    "sess.run(tf.global_variables_initializer())\n",
    "#비용함수 그리기 위한 변수들을 위한 list 생성\n",
    "W_val = []\n",
    "cost_val = []\n",
    "for i in range(-30, 50):\n",
    "    #(-3,5)구간에서 plotting\n",
    "    feed_W = i * 0.1\n",
    "    curr_cost, curr_W = sess.run([cost, W], feed_dict={W: feed_W})\n",
    "    W_val.append(curr_W)\n",
    "    cost_val.append(curr_cost)\n",
    "    \n",
    "# 비용함수 plotting\n",
    "plt.plot(W_val, cost_val)\n",
    "plt.show()"
   ]
  },
  {
   "cell_type": "markdown",
   "metadata": {},
   "source": [
    "## 경사하강법\n",
    "경사를 이용하기 위해 미분한다"
   ]
  },
  {
   "cell_type": "code",
   "execution_count": 18,
   "metadata": {
    "collapsed": true
   },
   "outputs": [],
   "source": [
    "# W -= Learning_rate * derivative of cost function\n",
    "W = tf.Variable(tf.random_normal([1]), name = 'weight')\n",
    "learning_rate = 0.1\n",
    "gradient = tf.reduce_mean((W * X - Y) * X)\n",
    "descent = W - learning_rate * gradient\n",
    "#tensorflow 에서는 -=를 통해서 업데이트가 안되므로 assigin()이용\n",
    "update = W.assign(descent)"
   ]
  },
  {
   "cell_type": "markdown",
   "metadata": {},
   "source": [
    "## 전체 코드"
   ]
  },
  {
   "cell_type": "code",
   "execution_count": 20,
   "metadata": {
    "collapsed": false
   },
   "outputs": [
    {
     "name": "stdout",
     "output_type": "stream",
     "text": [
      "0 0.407299 [ 0.70457101]\n",
      "1 0.115854 [ 0.84243786]\n",
      "2 0.032954 [ 0.91596687]\n",
      "3 0.00937358 [ 0.95518231]\n",
      "4 0.00266626 [ 0.97609723]\n",
      "5 0.000758407 [ 0.98725182]\n",
      "6 0.000215727 [ 0.99320096]\n",
      "7 6.13629e-05 [ 0.99637383]\n",
      "8 1.74533e-05 [ 0.99806607]\n",
      "9 4.96502e-06 [ 0.99896854]\n",
      "10 1.4122e-06 [ 0.99944991]\n",
      "11 4.01722e-07 [ 0.99970663]\n",
      "12 1.14261e-07 [ 0.99984354]\n",
      "13 3.24955e-08 [ 0.99991655]\n",
      "14 9.24611e-09 [ 0.99995548]\n",
      "15 2.62058e-09 [ 0.99997628]\n",
      "16 7.45141e-10 [ 0.99998736]\n",
      "17 2.12506e-10 [ 0.99999326]\n",
      "18 5.96856e-11 [ 0.99999642]\n",
      "19 1.69772e-11 [ 0.99999809]\n",
      "20 4.9134e-12 [ 0.99999899]\n"
     ]
    }
   ],
   "source": [
    "x_data = [1, 2, 3]\n",
    "y_data = [1, 2, 3]\n",
    "W= tf.Variable(tf.random_normal([1]), name = 'weight')\n",
    "X = tf.placeholder(tf.float32)\n",
    "Y = tf.placeholder(tf.float32)\n",
    "# our Hypothesis for linear model (simplified) X * W\n",
    "hypothesis = X * W\n",
    "# cost/ Loss Function\n",
    "cost = tf.reduce_mean(tf.square(hypothesis - Y))\n",
    "\n",
    "#minimize \n",
    "learning_rate = 0.1\n",
    "gradient = tf.reduce_mean((W * X - Y) * X)\n",
    "descent = W - learning_rate * gradient\n",
    "update = W.assign(descent)\n",
    "\n",
    "#launch the graph in a session\n",
    "sess = tf.Session()\n",
    "# initialize global function variable in the graph\n",
    "sess.run(tf.global_variables_initializer())\n",
    "for step in range(21):\n",
    "    sess.run(update, feed_dict = {X: x_data, Y: y_data})\n",
    "    print(step, sess.run(cost, feed_dict={X: x_data, Y: y_data}), sess.run(W))"
   ]
  },
  {
   "cell_type": "markdown",
   "metadata": {},
   "source": [
    "## tensorflow에서의 GradientDescent"
   ]
  },
  {
   "cell_type": "code",
   "execution_count": 21,
   "metadata": {
    "collapsed": false
   },
   "outputs": [
    {
     "name": "stdout",
     "output_type": "stream",
     "text": [
      "0 70.0\n",
      "1 5.6\n",
      "2 1.30667\n",
      "3 1.02044\n",
      "4 1.00136\n",
      "5 1.00009\n",
      "6 1.00001\n",
      "7 1.0\n",
      "8 1.0\n",
      "9 1.0\n",
      "10 1.0\n",
      "11 1.0\n",
      "12 1.0\n",
      "13 1.0\n",
      "14 1.0\n",
      "15 1.0\n",
      "16 1.0\n",
      "17 1.0\n",
      "18 1.0\n",
      "19 1.0\n",
      "20 1.0\n",
      "21 1.0\n",
      "22 1.0\n",
      "23 1.0\n",
      "24 1.0\n",
      "25 1.0\n",
      "26 1.0\n",
      "27 1.0\n",
      "28 1.0\n",
      "29 1.0\n",
      "30 1.0\n",
      "31 1.0\n",
      "32 1.0\n",
      "33 1.0\n",
      "34 1.0\n",
      "35 1.0\n",
      "36 1.0\n",
      "37 1.0\n",
      "38 1.0\n",
      "39 1.0\n",
      "40 1.0\n",
      "41 1.0\n",
      "42 1.0\n",
      "43 1.0\n",
      "44 1.0\n",
      "45 1.0\n",
      "46 1.0\n",
      "47 1.0\n",
      "48 1.0\n",
      "49 1.0\n",
      "50 1.0\n",
      "51 1.0\n",
      "52 1.0\n",
      "53 1.0\n",
      "54 1.0\n",
      "55 1.0\n",
      "56 1.0\n",
      "57 1.0\n",
      "58 1.0\n",
      "59 1.0\n",
      "60 1.0\n",
      "61 1.0\n",
      "62 1.0\n",
      "63 1.0\n",
      "64 1.0\n",
      "65 1.0\n",
      "66 1.0\n",
      "67 1.0\n",
      "68 1.0\n",
      "69 1.0\n",
      "70 1.0\n",
      "71 1.0\n",
      "72 1.0\n",
      "73 1.0\n",
      "74 1.0\n",
      "75 1.0\n",
      "76 1.0\n",
      "77 1.0\n",
      "78 1.0\n",
      "79 1.0\n",
      "80 1.0\n",
      "81 1.0\n",
      "82 1.0\n",
      "83 1.0\n",
      "84 1.0\n",
      "85 1.0\n",
      "86 1.0\n",
      "87 1.0\n",
      "88 1.0\n",
      "89 1.0\n",
      "90 1.0\n",
      "91 1.0\n",
      "92 1.0\n",
      "93 1.0\n",
      "94 1.0\n",
      "95 1.0\n",
      "96 1.0\n",
      "97 1.0\n",
      "98 1.0\n",
      "99 1.0\n"
     ]
    }
   ],
   "source": [
    "X = [1, 2, 3]\n",
    "Y = [1, 2, 3]\n",
    "W = tf.Variable(70.0)\n",
    "hypothesis = X * W\n",
    "cost = tf.reduce_mean(tf.square(hypothesis - Y))\n",
    "#tensorflow에서는 메소드로 존재한다. \n",
    "optimizer = tf.train.GradientDescentOptimizer(learning_rate = 0.1)\n",
    "train = optimizer.minimize(cost)\n",
    "                        \n",
    "\n",
    "sess = tf.Session()\n",
    "sess.run(tf.global_variables_initializer())\n",
    "                                \n",
    "for step in range(100):\n",
    "    print(step, sess.run(W))\n",
    "    sess.run(train)"
   ]
  },
  {
   "cell_type": "code",
   "execution_count": 22,
   "metadata": {
    "collapsed": false
   },
   "outputs": [
    {
     "ename": "TypeError",
     "evalue": "Fetch argument None has invalid type <class 'NoneType'>",
     "output_type": "error",
     "traceback": [
      "\u001b[0;31m---------------------------------------------------------------------------\u001b[0m",
      "\u001b[0;31mTypeError\u001b[0m                                 Traceback (most recent call last)",
      "\u001b[0;32m<ipython-input-22-a308454ae0f2>\u001b[0m in \u001b[0;36m<module>\u001b[0;34m()\u001b[0m\n\u001b[1;32m     22\u001b[0m \u001b[1;33m\u001b[0m\u001b[0m\n\u001b[1;32m     23\u001b[0m \u001b[1;32mfor\u001b[0m \u001b[0mstep\u001b[0m \u001b[1;32min\u001b[0m \u001b[0mrange\u001b[0m\u001b[1;33m(\u001b[0m\u001b[1;36m100\u001b[0m\u001b[1;33m)\u001b[0m\u001b[1;33m:\u001b[0m\u001b[1;33m\u001b[0m\u001b[0m\n\u001b[0;32m---> 24\u001b[0;31m     \u001b[0mprint\u001b[0m\u001b[1;33m(\u001b[0m\u001b[0mstep\u001b[0m\u001b[1;33m,\u001b[0m \u001b[0msess\u001b[0m\u001b[1;33m.\u001b[0m\u001b[0mrun\u001b[0m\u001b[1;33m(\u001b[0m\u001b[1;33m[\u001b[0m\u001b[0mgradient\u001b[0m\u001b[1;33m,\u001b[0m \u001b[0mW\u001b[0m\u001b[1;33m,\u001b[0m \u001b[0mgvs\u001b[0m\u001b[1;33m]\u001b[0m\u001b[1;33m)\u001b[0m\u001b[1;33m)\u001b[0m\u001b[1;33m\u001b[0m\u001b[0m\n\u001b[0m\u001b[1;32m     25\u001b[0m     \u001b[0msess\u001b[0m\u001b[1;33m.\u001b[0m\u001b[0mrun\u001b[0m\u001b[1;33m(\u001b[0m\u001b[0mapply_gradient\u001b[0m\u001b[1;33m)\u001b[0m\u001b[1;33m\u001b[0m\u001b[0m\n",
      "\u001b[0;32mC:\\Users\\POWER USER\\Anaconda3\\lib\\site-packages\\tensorflow\\python\\client\\session.py\u001b[0m in \u001b[0;36mrun\u001b[0;34m(self, fetches, feed_dict, options, run_metadata)\u001b[0m\n\u001b[1;32m    893\u001b[0m     \u001b[1;32mtry\u001b[0m\u001b[1;33m:\u001b[0m\u001b[1;33m\u001b[0m\u001b[0m\n\u001b[1;32m    894\u001b[0m       result = self._run(None, fetches, feed_dict, options_ptr,\n\u001b[0;32m--> 895\u001b[0;31m                          run_metadata_ptr)\n\u001b[0m\u001b[1;32m    896\u001b[0m       \u001b[1;32mif\u001b[0m \u001b[0mrun_metadata\u001b[0m\u001b[1;33m:\u001b[0m\u001b[1;33m\u001b[0m\u001b[0m\n\u001b[1;32m    897\u001b[0m         \u001b[0mproto_data\u001b[0m \u001b[1;33m=\u001b[0m \u001b[0mtf_session\u001b[0m\u001b[1;33m.\u001b[0m\u001b[0mTF_GetBuffer\u001b[0m\u001b[1;33m(\u001b[0m\u001b[0mrun_metadata_ptr\u001b[0m\u001b[1;33m)\u001b[0m\u001b[1;33m\u001b[0m\u001b[0m\n",
      "\u001b[0;32mC:\\Users\\POWER USER\\Anaconda3\\lib\\site-packages\\tensorflow\\python\\client\\session.py\u001b[0m in \u001b[0;36m_run\u001b[0;34m(self, handle, fetches, feed_dict, options, run_metadata)\u001b[0m\n\u001b[1;32m   1107\u001b[0m     \u001b[1;31m# Create a fetch handler to take care of the structure of fetches.\u001b[0m\u001b[1;33m\u001b[0m\u001b[1;33m\u001b[0m\u001b[0m\n\u001b[1;32m   1108\u001b[0m     fetch_handler = _FetchHandler(\n\u001b[0;32m-> 1109\u001b[0;31m         self._graph, fetches, feed_dict_tensor, feed_handles=feed_handles)\n\u001b[0m\u001b[1;32m   1110\u001b[0m \u001b[1;33m\u001b[0m\u001b[0m\n\u001b[1;32m   1111\u001b[0m     \u001b[1;31m# Run request and get response.\u001b[0m\u001b[1;33m\u001b[0m\u001b[1;33m\u001b[0m\u001b[0m\n",
      "\u001b[0;32mC:\\Users\\POWER USER\\Anaconda3\\lib\\site-packages\\tensorflow\\python\\client\\session.py\u001b[0m in \u001b[0;36m__init__\u001b[0;34m(self, graph, fetches, feeds, feed_handles)\u001b[0m\n\u001b[1;32m    411\u001b[0m     \"\"\"\n\u001b[1;32m    412\u001b[0m     \u001b[1;32mwith\u001b[0m \u001b[0mgraph\u001b[0m\u001b[1;33m.\u001b[0m\u001b[0mas_default\u001b[0m\u001b[1;33m(\u001b[0m\u001b[1;33m)\u001b[0m\u001b[1;33m:\u001b[0m\u001b[1;33m\u001b[0m\u001b[0m\n\u001b[0;32m--> 413\u001b[0;31m       \u001b[0mself\u001b[0m\u001b[1;33m.\u001b[0m\u001b[0m_fetch_mapper\u001b[0m \u001b[1;33m=\u001b[0m \u001b[0m_FetchMapper\u001b[0m\u001b[1;33m.\u001b[0m\u001b[0mfor_fetch\u001b[0m\u001b[1;33m(\u001b[0m\u001b[0mfetches\u001b[0m\u001b[1;33m)\u001b[0m\u001b[1;33m\u001b[0m\u001b[0m\n\u001b[0m\u001b[1;32m    414\u001b[0m     \u001b[0mself\u001b[0m\u001b[1;33m.\u001b[0m\u001b[0m_fetches\u001b[0m \u001b[1;33m=\u001b[0m \u001b[1;33m[\u001b[0m\u001b[1;33m]\u001b[0m\u001b[1;33m\u001b[0m\u001b[0m\n\u001b[1;32m    415\u001b[0m     \u001b[0mself\u001b[0m\u001b[1;33m.\u001b[0m\u001b[0m_targets\u001b[0m \u001b[1;33m=\u001b[0m \u001b[1;33m[\u001b[0m\u001b[1;33m]\u001b[0m\u001b[1;33m\u001b[0m\u001b[0m\n",
      "\u001b[0;32mC:\\Users\\POWER USER\\Anaconda3\\lib\\site-packages\\tensorflow\\python\\client\\session.py\u001b[0m in \u001b[0;36mfor_fetch\u001b[0;34m(fetch)\u001b[0m\n\u001b[1;32m    231\u001b[0m     \u001b[1;32melif\u001b[0m \u001b[0misinstance\u001b[0m\u001b[1;33m(\u001b[0m\u001b[0mfetch\u001b[0m\u001b[1;33m,\u001b[0m \u001b[1;33m(\u001b[0m\u001b[0mlist\u001b[0m\u001b[1;33m,\u001b[0m \u001b[0mtuple\u001b[0m\u001b[1;33m)\u001b[0m\u001b[1;33m)\u001b[0m\u001b[1;33m:\u001b[0m\u001b[1;33m\u001b[0m\u001b[0m\n\u001b[1;32m    232\u001b[0m       \u001b[1;31m# NOTE(touts): This is also the code path for namedtuples.\u001b[0m\u001b[1;33m\u001b[0m\u001b[1;33m\u001b[0m\u001b[0m\n\u001b[0;32m--> 233\u001b[0;31m       \u001b[1;32mreturn\u001b[0m \u001b[0m_ListFetchMapper\u001b[0m\u001b[1;33m(\u001b[0m\u001b[0mfetch\u001b[0m\u001b[1;33m)\u001b[0m\u001b[1;33m\u001b[0m\u001b[0m\n\u001b[0m\u001b[1;32m    234\u001b[0m     \u001b[1;32melif\u001b[0m \u001b[0misinstance\u001b[0m\u001b[1;33m(\u001b[0m\u001b[0mfetch\u001b[0m\u001b[1;33m,\u001b[0m \u001b[0mdict\u001b[0m\u001b[1;33m)\u001b[0m\u001b[1;33m:\u001b[0m\u001b[1;33m\u001b[0m\u001b[0m\n\u001b[1;32m    235\u001b[0m       \u001b[1;32mreturn\u001b[0m \u001b[0m_DictFetchMapper\u001b[0m\u001b[1;33m(\u001b[0m\u001b[0mfetch\u001b[0m\u001b[1;33m)\u001b[0m\u001b[1;33m\u001b[0m\u001b[0m\n",
      "\u001b[0;32mC:\\Users\\POWER USER\\Anaconda3\\lib\\site-packages\\tensorflow\\python\\client\\session.py\u001b[0m in \u001b[0;36m__init__\u001b[0;34m(self, fetches)\u001b[0m\n\u001b[1;32m    338\u001b[0m     \"\"\"\n\u001b[1;32m    339\u001b[0m     \u001b[0mself\u001b[0m\u001b[1;33m.\u001b[0m\u001b[0m_fetch_type\u001b[0m \u001b[1;33m=\u001b[0m \u001b[0mtype\u001b[0m\u001b[1;33m(\u001b[0m\u001b[0mfetches\u001b[0m\u001b[1;33m)\u001b[0m\u001b[1;33m\u001b[0m\u001b[0m\n\u001b[0;32m--> 340\u001b[0;31m     \u001b[0mself\u001b[0m\u001b[1;33m.\u001b[0m\u001b[0m_mappers\u001b[0m \u001b[1;33m=\u001b[0m \u001b[1;33m[\u001b[0m\u001b[0m_FetchMapper\u001b[0m\u001b[1;33m.\u001b[0m\u001b[0mfor_fetch\u001b[0m\u001b[1;33m(\u001b[0m\u001b[0mfetch\u001b[0m\u001b[1;33m)\u001b[0m \u001b[1;32mfor\u001b[0m \u001b[0mfetch\u001b[0m \u001b[1;32min\u001b[0m \u001b[0mfetches\u001b[0m\u001b[1;33m]\u001b[0m\u001b[1;33m\u001b[0m\u001b[0m\n\u001b[0m\u001b[1;32m    341\u001b[0m     \u001b[0mself\u001b[0m\u001b[1;33m.\u001b[0m\u001b[0m_unique_fetches\u001b[0m\u001b[1;33m,\u001b[0m \u001b[0mself\u001b[0m\u001b[1;33m.\u001b[0m\u001b[0m_value_indices\u001b[0m \u001b[1;33m=\u001b[0m \u001b[0m_uniquify_fetches\u001b[0m\u001b[1;33m(\u001b[0m\u001b[0mself\u001b[0m\u001b[1;33m.\u001b[0m\u001b[0m_mappers\u001b[0m\u001b[1;33m)\u001b[0m\u001b[1;33m\u001b[0m\u001b[0m\n\u001b[1;32m    342\u001b[0m \u001b[1;33m\u001b[0m\u001b[0m\n",
      "\u001b[0;32mC:\\Users\\POWER USER\\Anaconda3\\lib\\site-packages\\tensorflow\\python\\client\\session.py\u001b[0m in \u001b[0;36m<listcomp>\u001b[0;34m(.0)\u001b[0m\n\u001b[1;32m    338\u001b[0m     \"\"\"\n\u001b[1;32m    339\u001b[0m     \u001b[0mself\u001b[0m\u001b[1;33m.\u001b[0m\u001b[0m_fetch_type\u001b[0m \u001b[1;33m=\u001b[0m \u001b[0mtype\u001b[0m\u001b[1;33m(\u001b[0m\u001b[0mfetches\u001b[0m\u001b[1;33m)\u001b[0m\u001b[1;33m\u001b[0m\u001b[0m\n\u001b[0;32m--> 340\u001b[0;31m     \u001b[0mself\u001b[0m\u001b[1;33m.\u001b[0m\u001b[0m_mappers\u001b[0m \u001b[1;33m=\u001b[0m \u001b[1;33m[\u001b[0m\u001b[0m_FetchMapper\u001b[0m\u001b[1;33m.\u001b[0m\u001b[0mfor_fetch\u001b[0m\u001b[1;33m(\u001b[0m\u001b[0mfetch\u001b[0m\u001b[1;33m)\u001b[0m \u001b[1;32mfor\u001b[0m \u001b[0mfetch\u001b[0m \u001b[1;32min\u001b[0m \u001b[0mfetches\u001b[0m\u001b[1;33m]\u001b[0m\u001b[1;33m\u001b[0m\u001b[0m\n\u001b[0m\u001b[1;32m    341\u001b[0m     \u001b[0mself\u001b[0m\u001b[1;33m.\u001b[0m\u001b[0m_unique_fetches\u001b[0m\u001b[1;33m,\u001b[0m \u001b[0mself\u001b[0m\u001b[1;33m.\u001b[0m\u001b[0m_value_indices\u001b[0m \u001b[1;33m=\u001b[0m \u001b[0m_uniquify_fetches\u001b[0m\u001b[1;33m(\u001b[0m\u001b[0mself\u001b[0m\u001b[1;33m.\u001b[0m\u001b[0m_mappers\u001b[0m\u001b[1;33m)\u001b[0m\u001b[1;33m\u001b[0m\u001b[0m\n\u001b[1;32m    342\u001b[0m \u001b[1;33m\u001b[0m\u001b[0m\n",
      "\u001b[0;32mC:\\Users\\POWER USER\\Anaconda3\\lib\\site-packages\\tensorflow\\python\\client\\session.py\u001b[0m in \u001b[0;36mfor_fetch\u001b[0;34m(fetch)\u001b[0m\n\u001b[1;32m    231\u001b[0m     \u001b[1;32melif\u001b[0m \u001b[0misinstance\u001b[0m\u001b[1;33m(\u001b[0m\u001b[0mfetch\u001b[0m\u001b[1;33m,\u001b[0m \u001b[1;33m(\u001b[0m\u001b[0mlist\u001b[0m\u001b[1;33m,\u001b[0m \u001b[0mtuple\u001b[0m\u001b[1;33m)\u001b[0m\u001b[1;33m)\u001b[0m\u001b[1;33m:\u001b[0m\u001b[1;33m\u001b[0m\u001b[0m\n\u001b[1;32m    232\u001b[0m       \u001b[1;31m# NOTE(touts): This is also the code path for namedtuples.\u001b[0m\u001b[1;33m\u001b[0m\u001b[1;33m\u001b[0m\u001b[0m\n\u001b[0;32m--> 233\u001b[0;31m       \u001b[1;32mreturn\u001b[0m \u001b[0m_ListFetchMapper\u001b[0m\u001b[1;33m(\u001b[0m\u001b[0mfetch\u001b[0m\u001b[1;33m)\u001b[0m\u001b[1;33m\u001b[0m\u001b[0m\n\u001b[0m\u001b[1;32m    234\u001b[0m     \u001b[1;32melif\u001b[0m \u001b[0misinstance\u001b[0m\u001b[1;33m(\u001b[0m\u001b[0mfetch\u001b[0m\u001b[1;33m,\u001b[0m \u001b[0mdict\u001b[0m\u001b[1;33m)\u001b[0m\u001b[1;33m:\u001b[0m\u001b[1;33m\u001b[0m\u001b[0m\n\u001b[1;32m    235\u001b[0m       \u001b[1;32mreturn\u001b[0m \u001b[0m_DictFetchMapper\u001b[0m\u001b[1;33m(\u001b[0m\u001b[0mfetch\u001b[0m\u001b[1;33m)\u001b[0m\u001b[1;33m\u001b[0m\u001b[0m\n",
      "\u001b[0;32mC:\\Users\\POWER USER\\Anaconda3\\lib\\site-packages\\tensorflow\\python\\client\\session.py\u001b[0m in \u001b[0;36m__init__\u001b[0;34m(self, fetches)\u001b[0m\n\u001b[1;32m    338\u001b[0m     \"\"\"\n\u001b[1;32m    339\u001b[0m     \u001b[0mself\u001b[0m\u001b[1;33m.\u001b[0m\u001b[0m_fetch_type\u001b[0m \u001b[1;33m=\u001b[0m \u001b[0mtype\u001b[0m\u001b[1;33m(\u001b[0m\u001b[0mfetches\u001b[0m\u001b[1;33m)\u001b[0m\u001b[1;33m\u001b[0m\u001b[0m\n\u001b[0;32m--> 340\u001b[0;31m     \u001b[0mself\u001b[0m\u001b[1;33m.\u001b[0m\u001b[0m_mappers\u001b[0m \u001b[1;33m=\u001b[0m \u001b[1;33m[\u001b[0m\u001b[0m_FetchMapper\u001b[0m\u001b[1;33m.\u001b[0m\u001b[0mfor_fetch\u001b[0m\u001b[1;33m(\u001b[0m\u001b[0mfetch\u001b[0m\u001b[1;33m)\u001b[0m \u001b[1;32mfor\u001b[0m \u001b[0mfetch\u001b[0m \u001b[1;32min\u001b[0m \u001b[0mfetches\u001b[0m\u001b[1;33m]\u001b[0m\u001b[1;33m\u001b[0m\u001b[0m\n\u001b[0m\u001b[1;32m    341\u001b[0m     \u001b[0mself\u001b[0m\u001b[1;33m.\u001b[0m\u001b[0m_unique_fetches\u001b[0m\u001b[1;33m,\u001b[0m \u001b[0mself\u001b[0m\u001b[1;33m.\u001b[0m\u001b[0m_value_indices\u001b[0m \u001b[1;33m=\u001b[0m \u001b[0m_uniquify_fetches\u001b[0m\u001b[1;33m(\u001b[0m\u001b[0mself\u001b[0m\u001b[1;33m.\u001b[0m\u001b[0m_mappers\u001b[0m\u001b[1;33m)\u001b[0m\u001b[1;33m\u001b[0m\u001b[0m\n\u001b[1;32m    342\u001b[0m \u001b[1;33m\u001b[0m\u001b[0m\n",
      "\u001b[0;32mC:\\Users\\POWER USER\\Anaconda3\\lib\\site-packages\\tensorflow\\python\\client\\session.py\u001b[0m in \u001b[0;36m<listcomp>\u001b[0;34m(.0)\u001b[0m\n\u001b[1;32m    338\u001b[0m     \"\"\"\n\u001b[1;32m    339\u001b[0m     \u001b[0mself\u001b[0m\u001b[1;33m.\u001b[0m\u001b[0m_fetch_type\u001b[0m \u001b[1;33m=\u001b[0m \u001b[0mtype\u001b[0m\u001b[1;33m(\u001b[0m\u001b[0mfetches\u001b[0m\u001b[1;33m)\u001b[0m\u001b[1;33m\u001b[0m\u001b[0m\n\u001b[0;32m--> 340\u001b[0;31m     \u001b[0mself\u001b[0m\u001b[1;33m.\u001b[0m\u001b[0m_mappers\u001b[0m \u001b[1;33m=\u001b[0m \u001b[1;33m[\u001b[0m\u001b[0m_FetchMapper\u001b[0m\u001b[1;33m.\u001b[0m\u001b[0mfor_fetch\u001b[0m\u001b[1;33m(\u001b[0m\u001b[0mfetch\u001b[0m\u001b[1;33m)\u001b[0m \u001b[1;32mfor\u001b[0m \u001b[0mfetch\u001b[0m \u001b[1;32min\u001b[0m \u001b[0mfetches\u001b[0m\u001b[1;33m]\u001b[0m\u001b[1;33m\u001b[0m\u001b[0m\n\u001b[0m\u001b[1;32m    341\u001b[0m     \u001b[0mself\u001b[0m\u001b[1;33m.\u001b[0m\u001b[0m_unique_fetches\u001b[0m\u001b[1;33m,\u001b[0m \u001b[0mself\u001b[0m\u001b[1;33m.\u001b[0m\u001b[0m_value_indices\u001b[0m \u001b[1;33m=\u001b[0m \u001b[0m_uniquify_fetches\u001b[0m\u001b[1;33m(\u001b[0m\u001b[0mself\u001b[0m\u001b[1;33m.\u001b[0m\u001b[0m_mappers\u001b[0m\u001b[1;33m)\u001b[0m\u001b[1;33m\u001b[0m\u001b[0m\n\u001b[1;32m    342\u001b[0m \u001b[1;33m\u001b[0m\u001b[0m\n",
      "\u001b[0;32mC:\\Users\\POWER USER\\Anaconda3\\lib\\site-packages\\tensorflow\\python\\client\\session.py\u001b[0m in \u001b[0;36mfor_fetch\u001b[0;34m(fetch)\u001b[0m\n\u001b[1;32m    231\u001b[0m     \u001b[1;32melif\u001b[0m \u001b[0misinstance\u001b[0m\u001b[1;33m(\u001b[0m\u001b[0mfetch\u001b[0m\u001b[1;33m,\u001b[0m \u001b[1;33m(\u001b[0m\u001b[0mlist\u001b[0m\u001b[1;33m,\u001b[0m \u001b[0mtuple\u001b[0m\u001b[1;33m)\u001b[0m\u001b[1;33m)\u001b[0m\u001b[1;33m:\u001b[0m\u001b[1;33m\u001b[0m\u001b[0m\n\u001b[1;32m    232\u001b[0m       \u001b[1;31m# NOTE(touts): This is also the code path for namedtuples.\u001b[0m\u001b[1;33m\u001b[0m\u001b[1;33m\u001b[0m\u001b[0m\n\u001b[0;32m--> 233\u001b[0;31m       \u001b[1;32mreturn\u001b[0m \u001b[0m_ListFetchMapper\u001b[0m\u001b[1;33m(\u001b[0m\u001b[0mfetch\u001b[0m\u001b[1;33m)\u001b[0m\u001b[1;33m\u001b[0m\u001b[0m\n\u001b[0m\u001b[1;32m    234\u001b[0m     \u001b[1;32melif\u001b[0m \u001b[0misinstance\u001b[0m\u001b[1;33m(\u001b[0m\u001b[0mfetch\u001b[0m\u001b[1;33m,\u001b[0m \u001b[0mdict\u001b[0m\u001b[1;33m)\u001b[0m\u001b[1;33m:\u001b[0m\u001b[1;33m\u001b[0m\u001b[0m\n\u001b[1;32m    235\u001b[0m       \u001b[1;32mreturn\u001b[0m \u001b[0m_DictFetchMapper\u001b[0m\u001b[1;33m(\u001b[0m\u001b[0mfetch\u001b[0m\u001b[1;33m)\u001b[0m\u001b[1;33m\u001b[0m\u001b[0m\n",
      "\u001b[0;32mC:\\Users\\POWER USER\\Anaconda3\\lib\\site-packages\\tensorflow\\python\\client\\session.py\u001b[0m in \u001b[0;36m__init__\u001b[0;34m(self, fetches)\u001b[0m\n\u001b[1;32m    338\u001b[0m     \"\"\"\n\u001b[1;32m    339\u001b[0m     \u001b[0mself\u001b[0m\u001b[1;33m.\u001b[0m\u001b[0m_fetch_type\u001b[0m \u001b[1;33m=\u001b[0m \u001b[0mtype\u001b[0m\u001b[1;33m(\u001b[0m\u001b[0mfetches\u001b[0m\u001b[1;33m)\u001b[0m\u001b[1;33m\u001b[0m\u001b[0m\n\u001b[0;32m--> 340\u001b[0;31m     \u001b[0mself\u001b[0m\u001b[1;33m.\u001b[0m\u001b[0m_mappers\u001b[0m \u001b[1;33m=\u001b[0m \u001b[1;33m[\u001b[0m\u001b[0m_FetchMapper\u001b[0m\u001b[1;33m.\u001b[0m\u001b[0mfor_fetch\u001b[0m\u001b[1;33m(\u001b[0m\u001b[0mfetch\u001b[0m\u001b[1;33m)\u001b[0m \u001b[1;32mfor\u001b[0m \u001b[0mfetch\u001b[0m \u001b[1;32min\u001b[0m \u001b[0mfetches\u001b[0m\u001b[1;33m]\u001b[0m\u001b[1;33m\u001b[0m\u001b[0m\n\u001b[0m\u001b[1;32m    341\u001b[0m     \u001b[0mself\u001b[0m\u001b[1;33m.\u001b[0m\u001b[0m_unique_fetches\u001b[0m\u001b[1;33m,\u001b[0m \u001b[0mself\u001b[0m\u001b[1;33m.\u001b[0m\u001b[0m_value_indices\u001b[0m \u001b[1;33m=\u001b[0m \u001b[0m_uniquify_fetches\u001b[0m\u001b[1;33m(\u001b[0m\u001b[0mself\u001b[0m\u001b[1;33m.\u001b[0m\u001b[0m_mappers\u001b[0m\u001b[1;33m)\u001b[0m\u001b[1;33m\u001b[0m\u001b[0m\n\u001b[1;32m    342\u001b[0m \u001b[1;33m\u001b[0m\u001b[0m\n",
      "\u001b[0;32mC:\\Users\\POWER USER\\Anaconda3\\lib\\site-packages\\tensorflow\\python\\client\\session.py\u001b[0m in \u001b[0;36m<listcomp>\u001b[0;34m(.0)\u001b[0m\n\u001b[1;32m    338\u001b[0m     \"\"\"\n\u001b[1;32m    339\u001b[0m     \u001b[0mself\u001b[0m\u001b[1;33m.\u001b[0m\u001b[0m_fetch_type\u001b[0m \u001b[1;33m=\u001b[0m \u001b[0mtype\u001b[0m\u001b[1;33m(\u001b[0m\u001b[0mfetches\u001b[0m\u001b[1;33m)\u001b[0m\u001b[1;33m\u001b[0m\u001b[0m\n\u001b[0;32m--> 340\u001b[0;31m     \u001b[0mself\u001b[0m\u001b[1;33m.\u001b[0m\u001b[0m_mappers\u001b[0m \u001b[1;33m=\u001b[0m \u001b[1;33m[\u001b[0m\u001b[0m_FetchMapper\u001b[0m\u001b[1;33m.\u001b[0m\u001b[0mfor_fetch\u001b[0m\u001b[1;33m(\u001b[0m\u001b[0mfetch\u001b[0m\u001b[1;33m)\u001b[0m \u001b[1;32mfor\u001b[0m \u001b[0mfetch\u001b[0m \u001b[1;32min\u001b[0m \u001b[0mfetches\u001b[0m\u001b[1;33m]\u001b[0m\u001b[1;33m\u001b[0m\u001b[0m\n\u001b[0m\u001b[1;32m    341\u001b[0m     \u001b[0mself\u001b[0m\u001b[1;33m.\u001b[0m\u001b[0m_unique_fetches\u001b[0m\u001b[1;33m,\u001b[0m \u001b[0mself\u001b[0m\u001b[1;33m.\u001b[0m\u001b[0m_value_indices\u001b[0m \u001b[1;33m=\u001b[0m \u001b[0m_uniquify_fetches\u001b[0m\u001b[1;33m(\u001b[0m\u001b[0mself\u001b[0m\u001b[1;33m.\u001b[0m\u001b[0m_mappers\u001b[0m\u001b[1;33m)\u001b[0m\u001b[1;33m\u001b[0m\u001b[0m\n\u001b[1;32m    342\u001b[0m \u001b[1;33m\u001b[0m\u001b[0m\n",
      "\u001b[0;32mC:\\Users\\POWER USER\\Anaconda3\\lib\\site-packages\\tensorflow\\python\\client\\session.py\u001b[0m in \u001b[0;36mfor_fetch\u001b[0;34m(fetch)\u001b[0m\n\u001b[1;32m    228\u001b[0m     \u001b[1;32mif\u001b[0m \u001b[0mfetch\u001b[0m \u001b[1;32mis\u001b[0m \u001b[1;32mNone\u001b[0m\u001b[1;33m:\u001b[0m\u001b[1;33m\u001b[0m\u001b[0m\n\u001b[1;32m    229\u001b[0m       raise TypeError('Fetch argument %r has invalid type %r' %\n\u001b[0;32m--> 230\u001b[0;31m                       (fetch, type(fetch)))\n\u001b[0m\u001b[1;32m    231\u001b[0m     \u001b[1;32melif\u001b[0m \u001b[0misinstance\u001b[0m\u001b[1;33m(\u001b[0m\u001b[0mfetch\u001b[0m\u001b[1;33m,\u001b[0m \u001b[1;33m(\u001b[0m\u001b[0mlist\u001b[0m\u001b[1;33m,\u001b[0m \u001b[0mtuple\u001b[0m\u001b[1;33m)\u001b[0m\u001b[1;33m)\u001b[0m\u001b[1;33m:\u001b[0m\u001b[1;33m\u001b[0m\u001b[0m\n\u001b[1;32m    232\u001b[0m       \u001b[1;31m# NOTE(touts): This is also the code path for namedtuples.\u001b[0m\u001b[1;33m\u001b[0m\u001b[1;33m\u001b[0m\u001b[0m\n",
      "\u001b[0;31mTypeError\u001b[0m: Fetch argument None has invalid type <class 'NoneType'>"
     ]
    }
   ],
   "source": [
    "#tensorflow 안에서 grdient를 손대고 싶을 떄 사용하는 방법\n",
    "X = [1, 2, 3]\n",
    "Y = [1, 2, 3]\n",
    "\n",
    "W = tf.Variable(5.)\n",
    "hypothesis = X * W\n",
    "\n",
    "#직접 구한 gradient값\n",
    "gradient = tf.reduce_mean((W * X - Y) * X) * 2\n",
    "\n",
    "cost = tf.reduce_mean(tf.square(hypothesis - Y))\n",
    "optimizer = tf.train.GradientDescentOptimizer(learning_rate = 0.01)\n",
    "\n",
    "#Gradient값을 얻는다.\n",
    "gvs = optimizer.compute_gradients(cost)\n",
    "\n",
    "\n",
    "#Gradient 적용\n",
    "apply_gradient = optimizer.apply_gradients(gvs)\n",
    "\n",
    "sess = tf.Session()\n",
    "sess.run(tf.global_variables_initializer())\n",
    "\n",
    "for step in range(100):\n",
    "    print(step, sess.run([gradient, W, gvs]))\n",
    "    sess.run(apply_gradient)"
   ]
  },
  {
   "cell_type": "code",
   "execution_count": null,
   "metadata": {
    "collapsed": true
   },
   "outputs": [],
   "source": []
  }
 ],
 "metadata": {
  "kernelspec": {
   "display_name": "Python 3",
   "language": "python",
   "name": "python3"
  }
 },
 "nbformat": 4,
 "nbformat_minor": 2
}
