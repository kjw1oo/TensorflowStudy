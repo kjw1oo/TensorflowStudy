{
 "cells": [
  {
   "cell_type": "code",
   "execution_count": 1,
   "metadata": {
    "collapsed": true
   },
   "outputs": [],
   "source": [
    "import tensorflow as tf\n",
    "import numpy as np\n",
    "import matplotlib.pyplot as plt\n",
    "import random"
   ]
  },
  {
   "cell_type": "markdown",
   "metadata": {},
   "source": [
    "Simple Convolution layer"
   ]
  },
  {
   "cell_type": "code",
   "execution_count": 2,
   "metadata": {},
   "outputs": [
    {
     "name": "stdout",
     "output_type": "stream",
     "text": [
      "(1, 3, 3, 1)\n"
     ]
    },
    {
     "data": {
      "image/png": "[encoded data removed]",
      "text/plain": [
       "<matplotlib.figure.Figure at 0x16f9c23de80>"
      ]
     },
     "metadata": {},
     "output_type": "display_data"
    }
   ],
   "source": [
    "sess = tf.InteractiveSession()\n",
    "image = np.array([[[[1], [2], [3]],\n",
    "                   [[4], [5], [6]],\n",
    "                   [[7], [8], [9]]]], dtype = np.float32)\n",
    "print(image.shape)\n",
    "plt.imshow(image.reshape(3, 3), cmap='Greys')\n",
    "plt.show()"
   ]
  },
  {
   "cell_type": "markdown",
   "metadata": {},
   "source": [
    "- image : 1, 3, 3, 1\n",
    "- Filter : 2, 2, 1, 1\n",
    "- Stride : 1 X 1\n",
    "- Padding: Valid\n",
    " "
   ]
  },
  {
   "cell_type": "markdown",
   "metadata": {},
   "source": [
    "* image : 1개의 3 X 3 X 1의 이미지 (1,3,3,1) = (이미지갯수, 크기1,크기2, 색깔)\n",
    "* Filter : 2 X 2 X 1 에 1개의 filter를 사용 (2,2,1,1) = (크기1, 크기2,, 색깔, 필터갯수)"
   ]
  },
  {
   "cell_type": "code",
   "execution_count": 3,
   "metadata": {},
   "outputs": [
    {
     "name": "stdout",
     "output_type": "stream",
     "text": [
      "image.shape (1, 3, 3, 1)\n",
      "weight.shape (2, 2, 1, 1)\n",
      "conv2d_img.shape (1, 2, 2, 1)\n",
      "[[ 12.  16.]\n",
      " [ 24.  28.]]\n"
     ]
    },
    {
     "data": {
      "image/png": "[encoded data removed]",
      "text/plain": [
       "<matplotlib.figure.Figure at 0x16fa3823400>"
      ]
     },
     "metadata": {},
     "output_type": "display_data"
    }
   ],
   "source": [
    "#print(\"imag \\n\", image)\n",
    "print(\"image.shape\", image.shape)\n",
    "#Filter\n",
    "weight = tf.constant([[[[1.0]], [[1.0]]],\n",
    "                      [[[1.0]], [[1.0]]]])\n",
    "print(\"weight.shape\", weight.shape)\n",
    "conv2d = tf.nn.conv2d(image, weight, strides = [1, 1, 1, 1], padding = 'VALID')\n",
    "conv2d_img = conv2d.eval()\n",
    "print(\"conv2d_img.shape\", conv2d_img.shape)\n",
    "conv2d_img = np.swapaxes(conv2d_img, 0, 3)\n",
    "for i, one_img in enumerate(conv2d_img):\n",
    "    print(one_img.reshape(2,2))\n",
    "    plt.subplot(1, 2, i+1)\n",
    "    plt.imshow(one_img.reshape(2, 2), cmap='gray')\n",
    "    plt.show()"
   ]
  },
  {
   "cell_type": "code",
   "execution_count": 4,
   "metadata": {},
   "outputs": [
    {
     "name": "stdout",
     "output_type": "stream",
     "text": [
      "image.shape (1, 3, 3, 1)\n",
      "weight.shape (2, 2, 1, 1)\n",
      "conv2d_img.shape (1, 3, 3, 1)\n",
      "[[ 12.  16.   9.]\n",
      " [ 24.  28.  15.]\n",
      " [ 15.  17.   9.]]\n"
     ]
    },
    {
     "data": {
      "image/png": "[encoded data removed]",
      "text/plain": [
       "<matplotlib.figure.Figure at 0x16fa38cd6a0>"
      ]
     },
     "metadata": {},
     "output_type": "display_data"
    }
   ],
   "source": [
    "#print(\"imag \\n\", image)\n",
    "print(\"image.shape\", image.shape)\n",
    "#Filter\n",
    "weight = tf.constant([[[[1.0]], [[1.0]]],\n",
    "                      [[[1.0]], [[1.0]]]])\n",
    "print(\"weight.shape\", weight.shape)\n",
    "conv2d = tf.nn.conv2d(image, weight, strides = [1, 1, 1, 1], padding = 'SAME')\n",
    "conv2d_img = conv2d.eval()\n",
    "print(\"conv2d_img.shape\", conv2d_img.shape)\n",
    "conv2d_img = np.swapaxes(conv2d_img, 0, 3)\n",
    "for i, one_img in enumerate(conv2d_img):\n",
    "    print(one_img.reshape(3,3))\n",
    "    plt.subplot(1, 2, i+1)\n",
    "    plt.imshow(one_img.reshape(3, 3), cmap='gray')\n",
    "    plt.show()"
   ]
  },
  {
   "cell_type": "markdown",
   "metadata": {},
   "source": [
    "### Filter 여러개"
   ]
  },
  {
   "cell_type": "code",
   "execution_count": 5,
   "metadata": {},
   "outputs": [
    {
     "name": "stdout",
     "output_type": "stream",
     "text": [
      "image.shape (1, 3, 3, 1)\n",
      "weight.shape (2, 2, 1, 3)\n",
      "conv2d_img.shape (1, 3, 3, 3)\n",
      "[[ 12.  16.   9.]\n",
      " [ 24.  28.  15.]\n",
      " [ 15.  17.   9.]]\n"
     ]
    },
    {
     "data": {
      "image/png": "[encoded data removed]",
      "text/plain": [
       "<matplotlib.figure.Figure at 0x16fa38afb70>"
      ]
     },
     "metadata": {},
     "output_type": "display_data"
    },
    {
     "name": "stdout",
     "output_type": "stream",
     "text": [
      "[[ 120.  160.   90.]\n",
      " [ 240.  280.  150.]\n",
      " [ 150.  170.   90.]]\n"
     ]
    },
    {
     "data": {
      "image/png": "[encoded data removed]",
      "text/plain": [
       "<matplotlib.figure.Figure at 0x16fa39df240>"
      ]
     },
     "metadata": {},
     "output_type": "display_data"
    },
    {
     "name": "stdout",
     "output_type": "stream",
     "text": [
      "[[-12. -16.  -9.]\n",
      " [-24. -28. -15.]\n",
      " [-15. -17.  -9.]]\n"
     ]
    },
    {
     "data": {
      "image/png": "[encoded data removed]",
      "text/plain": [
       "<matplotlib.figure.Figure at 0x16fa3a484a8>"
      ]
     },
     "metadata": {},
     "output_type": "display_data"
    }
   ],
   "source": [
    "#print(\"imag \\n\", image)\n",
    "print(\"image.shape\", image.shape)\n",
    "#Filter\n",
    "weight = tf.constant([[[[1., 10., -1]], [[1., 10., -1]]],\n",
    "                      [[[1., 10., -1]], [[1., 10., -1]]]])\n",
    "print(\"weight.shape\", weight.shape)\n",
    "conv2d = tf.nn.conv2d(image, weight, strides = [1, 1, 1, 1], padding = 'SAME')\n",
    "conv2d_img = conv2d.eval()\n",
    "print(\"conv2d_img.shape\", conv2d_img.shape)\n",
    "conv2d_img = np.swapaxes(conv2d_img, 0, 3)\n",
    "for i, one_img in enumerate(conv2d_img):\n",
    "    print(one_img.reshape(3,3))\n",
    "    plt.subplot(1, 3, i+1)\n",
    "    plt.imshow(one_img.reshape(3, 3), cmap='gray')\n",
    "    plt.show()"
   ]
  },
  {
   "cell_type": "markdown",
   "metadata": {},
   "source": [
    "# MAX Pooling\n",
    "\n",
    "- Filter 된 이미지를 적당한 크기로 (아래에서는 2X2크기) 안에 있는 값중 가장 큰값으로 변환한다."
   ]
  },
  {
   "cell_type": "code",
   "execution_count": 6,
   "metadata": {},
   "outputs": [
    {
     "name": "stdout",
     "output_type": "stream",
     "text": [
      "(1, 2, 2, 1)\n",
      "[[[[ 4.]\n",
      "   [ 3.]]\n",
      "\n",
      "  [[ 2.]\n",
      "   [ 1.]]]]\n"
     ]
    }
   ],
   "source": [
    "image = np.array([[[[4], [3]],\n",
    "                   [[2], [1]]]], dtype = np.float32)\n",
    "pool = tf.nn.max_pool(image, ksize = [1, 2, 2, 1], strides = [1, 1, 1, 1], padding='SAME')\n",
    "print(pool.shape)\n",
    "print(pool.eval())"
   ]
  },
  {
   "cell_type": "code",
   "execution_count": 7,
   "metadata": {},
   "outputs": [
    {
     "name": "stdout",
     "output_type": "stream",
     "text": [
      "Extracting MNIST_data/train-images-idx3-ubyte.gz\n",
      "Extracting MNIST_data/train-labels-idx1-ubyte.gz\n",
      "Extracting MNIST_data/t10k-images-idx3-ubyte.gz\n",
      "Extracting MNIST_data/t10k-labels-idx1-ubyte.gz\n"
     ]
    }
   ],
   "source": [
    "from tensorflow.examples.tutorials.mnist import input_data\n",
    "mnist = input_data.read_data_sets(\"MNIST_data/\", one_hot = True)\n"
   ]
  },
  {
   "cell_type": "code",
   "execution_count": 8,
   "metadata": {},
   "outputs": [
    {
     "data": {
      "image/png": "[encoded data removed]",
      "text/plain": [
       "<matplotlib.figure.Figure at 0x16fa3a29cf8>"
      ]
     },
     "metadata": {},
     "output_type": "display_data"
    }
   ],
   "source": [
    "\n",
    "img = mnist.test.images[0].reshape(28, 28)\n",
    "plt.imshow(img, cmap='gray')\n",
    "plt.show()"
   ]
  },
  {
   "cell_type": "markdown",
   "metadata": {},
   "source": [
    "# MNIST Convolution layer"
   ]
  },
  {
   "cell_type": "markdown",
   "metadata": {},
   "source": [
    "- Filter로 나오는 conv2d의 크기는 \n",
    "- padding이 'valid'일떄는 (N- F)/strides + 1\n",
    "- padding이 'SAME'일때는 N/stride"
   ]
  },
  {
   "cell_type": "code",
   "execution_count": 9,
   "metadata": {},
   "outputs": [
    {
     "name": "stdout",
     "output_type": "stream",
     "text": [
      "Tensor(\"Conv2D_3:0\", shape=(1, 14, 14, 5), dtype=float32)\n"
     ]
    },
    {
     "data": {
      "image/png": "[encoded data removed]",
      "text/plain": [
       "<matplotlib.figure.Figure at 0x16fa63e0208>"
      ]
     },
     "metadata": {},
     "output_type": "display_data"
    },
    {
     "data": {
      "image/png": "[encoded data removed]",
      "text/plain": [
       "<matplotlib.figure.Figure at 0x16fa645e4a8>"
      ]
     },
     "metadata": {},
     "output_type": "display_data"
    },
    {
     "data": {
      "image/png": "[encoded data removed]",
      "text/plain": [
       "<matplotlib.figure.Figure at 0x16faa8414e0>"
      ]
     },
     "metadata": {},
     "output_type": "display_data"
    },
    {
     "data": {
      "image/png": "[encoded data removed]",
      "text/plain": [
       "<matplotlib.figure.Figure at 0x16faa8b27f0>"
      ]
     },
     "metadata": {},
     "output_type": "display_data"
    },
    {
     "data": {
      "image/png": "[encoded data removed]",
      "text/plain": [
       "<matplotlib.figure.Figure at 0x16faab6ce80>"
      ]
     },
     "metadata": {},
     "output_type": "display_data"
    }
   ],
   "source": [
    "sess = tf.InteractiveSession()\n",
    "img = mnist.test.images[0]\n",
    "# 28 X 28의 1색깔 -1은 알아서 계산하라는 뜻\n",
    "img = img.reshape(-1, 28, 28, 1)\n",
    "# 3*3의 filter 5개 이용\n",
    "W1 = tf.Variable(tf.random_normal([3, 3, 1, 5], stddev = 0.01))\n",
    "\n",
    "conv2d = tf.nn.conv2d(img, W1, strides=[1, 2, 2, 1], padding='SAME')\n",
    "print(conv2d)\n",
    "\n",
    "sess.run(tf.global_variables_initializer())\n",
    "conv2d_img = conv2d.eval()\n",
    "conv2d_img = np.swapaxes(conv2d_img, 0, 3)\n",
    "for i, one_img in enumerate(conv2d_img):\n",
    "    plt.subplot(1, 5, i+1)\n",
    "    plt.imshow(one_img.reshape(14, 14), cmap='gray')\n",
    "    plt.show()"
   ]
  },
  {
   "cell_type": "markdown",
   "metadata": {},
   "source": [
    "# MNIST Max pooling"
   ]
  },
  {
   "cell_type": "markdown",
   "metadata": {},
   "source": [
    "- conv2d 의 크기 14 * 14 \n",
    "- ksize 2*2 \n",
    "- strides 2\n",
    "- 14/2 = 7  ---> 7*7 크기의 아웃풋"
   ]
  },
  {
   "cell_type": "code",
   "execution_count": 10,
   "metadata": {},
   "outputs": [
    {
     "name": "stdout",
     "output_type": "stream",
     "text": [
      "Tensor(\"MaxPool_1:0\", shape=(1, 7, 7, 5), dtype=float32)\n"
     ]
    },
    {
     "data": {
      "image/png": "[encoded data removed]",
      "text/plain": [
       "<matplotlib.figure.Figure at 0x16f98b93ba8>"
      ]
     },
     "metadata": {},
     "output_type": "display_data"
    },
    {
     "data": {
      "image/png": "[encoded data removed]",
      "text/plain": [
       "<matplotlib.figure.Figure at 0x16fad2d1358>"
      ]
     },
     "metadata": {},
     "output_type": "display_data"
    },
    {
     "data": {
      "image/png": "[encoded data removed]",
      "text/plain": [
       "<matplotlib.figure.Figure at 0x16fa3a29b70>"
      ]
     },
     "metadata": {},
     "output_type": "display_data"
    },
    {
     "data": {
      "image/png": "[encoded data removed]",
      "text/plain": [
       "<matplotlib.figure.Figure at 0x16faa818630>"
      ]
     },
     "metadata": {},
     "output_type": "display_data"
    },
    {
     "data": {
      "image/png": "[encoded data removed]",
      "text/plain": [
       "<matplotlib.figure.Figure at 0x16fb40cb2b0>"
      ]
     },
     "metadata": {},
     "output_type": "display_data"
    }
   ],
   "source": [
    "pool = tf.nn.max_pool(conv2d, ksize=[1, 2, 2, 1], strides=[1, 2, 2, 1], padding='SAME')\n",
    "\n",
    "print(pool)\n",
    "sess.run(tf.global_variables_initializer())\n",
    "pool_img = pool.eval()\n",
    "pool_img = np.swapaxes(pool_img, 0, 3)\n",
    "\n",
    "for i, one_img in enumerate(pool_img):\n",
    "    plt.subplot(1, 5, i+1)\n",
    "    plt.imshow(one_img.reshape(7, 7), cmap='gray')\n",
    "    plt.show()"
   ]
  },
  {
   "cell_type": "markdown",
   "metadata": {},
   "source": [
    "# MNIST"
   ]
  },
  {
   "cell_type": "code",
   "execution_count": 11,
   "metadata": {},
   "outputs": [
    {
     "name": "stdout",
     "output_type": "stream",
     "text": [
      "Learning Started, It takes times\n",
      "epoch : 1, cost =0.342137100\n",
      "epoch : 2, cost =0.095856836\n",
      "epoch : 3, cost =0.071486434\n",
      "epoch : 4, cost =0.057532689\n",
      "epoch : 5, cost =0.047393669\n",
      "epoch : 6, cost =0.041812521\n",
      "epoch : 7, cost =0.037036472\n",
      "epoch : 8, cost =0.032823658\n",
      "epoch : 9, cost =0.028537874\n",
      "epoch : 10, cost =0.026011675\n",
      "epoch : 11, cost =0.022673690\n",
      "epoch : 12, cost =0.020314892\n",
      "epoch : 13, cost =0.017713544\n",
      "epoch : 14, cost =0.015648145\n",
      "epoch : 15, cost =0.014500018\n",
      "Learning Finished\n",
      "Accuracy :  0.9868\n"
     ]
    }
   ],
   "source": [
    "with tf.device('/cpu:0'): \n",
    "    X = tf.placeholder(tf.float32, [None, 784])\n",
    "    X_img = tf.reshape(X, [-1, 28, 28, 1])\n",
    "    Y = tf.placeholder(tf.float32, [None, 10])\n",
    "\n",
    "    #L1 image shape = (?, 28, 28, 1)\n",
    "    # filter 3*3 크리 1color 32개로 진행\n",
    "    W1 = tf.Variable(tf.random_normal([3, 3, 1, 32], stddev=0.01))\n",
    "    # conv -> (?, 28, 28, 32)\n",
    "    # pool -> (?, 14, 14, 32)\n",
    "    L1_conv2d = tf.nn.conv2d(X_img, W1, strides=[1, 1, 1, 1], padding = 'SAME')\n",
    "    L1 = tf.nn.relu(L1_conv2d)\n",
    "    L1 = tf.nn.max_pool(L1, ksize=[1, 2, 2, 1], strides = [1, 2, 2, 1], padding = 'SAME')\n",
    "\n",
    "    # L2 image shape = (?, 14, 14, 32)\n",
    "    W2= tf.Variable(tf.random_normal([3, 3, 32, 64], stddev = 0.01))\n",
    "    # conv -> (?, 14, 14, 64)\n",
    "    # pool -> (?, 7, 7, 64)\n",
    "\n",
    "    L2_conv2d = tf.nn.conv2d(L1, W2, strides = [1, 1, 1, 1], padding = 'SAME')\n",
    "    L2 = tf.nn.relu(L2_conv2d)\n",
    "    L2 = tf.nn.max_pool(L2, ksize=[1, 2, 2, 1], strides = [1, 2, 2, 1], padding = 'SAME')\n",
    "    # 이것을 Fully connected  layer에 넣기 위해서 reshpae를 통해 펼친다\n",
    "    L2_flat = tf.reshape(L2, [-1, 7 * 7 * 64])\n",
    "    # 그리고 L2를 (?, 3136)으로 reshape\n",
    "\n",
    "    # final FC 7*7*64 inputs -> 10 output\n",
    "    W3 = tf.get_variable('W33', shape = [7 * 7 * 64, 10], initializer = tf.contrib.layers.xavier_initializer())\n",
    "    b = tf.Variable(tf.random_normal([10]))\n",
    "    logits = tf.matmul(L2_flat, W3) + b\n",
    "\n",
    "    cost = tf.reduce_mean(tf.nn.softmax_cross_entropy_with_logits(logits = logits, labels = Y))\n",
    "    optimizer = tf.train.AdamOptimizer(learning_rate = 0.001).minimize(cost)\n",
    "\n",
    "predicted = tf.argmax(logits, 1)\n",
    "is_correct = tf.equal(predicted, tf.argmax(Y, 1))\n",
    "accuracy = tf.reduce_mean(tf.cast(is_correct, dtype = tf.float32))\n",
    "\n",
    "training_epochs = 15\n",
    "batch_size = 100\n",
    "\n",
    "sess = tf.Session()\n",
    "sess.run(tf.global_variables_initializer())\n",
    "\n",
    "print(\"Learning Started, It takes times\")\n",
    "for epoch in range(training_epochs):\n",
    "    avg_cost = 0\n",
    "    total_batch = int(mnist.train.num_examples / batch_size)\n",
    "    for i in range(total_batch):\n",
    "        batch_xs, batch_ys = mnist.train.next_batch(batch_size)\n",
    "        feed_dict = {X: batch_xs, Y: batch_ys}\n",
    "        c, _ = sess.run([cost, optimizer], feed_dict = feed_dict)\n",
    "        avg_cost += c / total_batch\n",
    "    print('epoch : {}, cost ={:.9f}'.format(epoch + 1, avg_cost))\n",
    "    \n",
    "print(\"Learning Finished\")\n",
    "\n",
    "print(\"Accuracy : \", sess.run(accuracy, feed_dict={X: mnist.test.images, Y: mnist.test.labels}))\n",
    "    "
   ]
  },
  {
   "cell_type": "markdown",
   "metadata": {},
   "source": [
    "# DEEP CONV in MNIST"
   ]
  },
  {
   "cell_type": "code",
   "execution_count": 12,
   "metadata": {},
   "outputs": [
    {
     "name": "stdout",
     "output_type": "stream",
     "text": [
      "epoch : 1, cost =0.431255509\n",
      "epoch : 2, cost =0.090818670\n",
      "epoch : 3, cost =0.071565363\n",
      "epoch : 4, cost =0.057245149\n",
      "epoch : 5, cost =0.050771849\n",
      "epoch : 6, cost =0.046289354\n",
      "epoch : 7, cost =0.041859801\n",
      "epoch : 8, cost =0.038474826\n",
      "epoch : 9, cost =0.035545327\n",
      "epoch : 10, cost =0.032016681\n",
      "epoch : 11, cost =0.030456406\n",
      "epoch : 12, cost =0.030194372\n",
      "epoch : 13, cost =0.027186118\n",
      "epoch : 14, cost =0.027796941\n",
      "epoch : 15, cost =0.024377909\n",
      "Learning Finished\n",
      "Accuracy :  0.9931\n"
     ]
    }
   ],
   "source": [
    "with tf.device('/cpu:0'): \n",
    "    X = tf.placeholder(tf.float32, shape = [None, 784])\n",
    "    X_img = tf.reshape(X, [-1, 28, 28, 1])\n",
    "    Y = tf.placeholder(tf.float32, shape = [None, 10])\n",
    "    #dropout\n",
    "    keep_prob = tf.placeholder(tf.float32)\n",
    "    #변수\n",
    "    learning_rate = 0.001\n",
    "\n",
    "    #첫번째 레이어 입력 그림 크기 [-1, 28, 28, 1]\n",
    "    W1 = tf.Variable(tf.random_normal([3, 3, 1, 32], stddev = 0.01))\n",
    "\n",
    "    L1 = tf.nn.conv2d(X_img, W1, strides = [1, 1, 1, 1], padding = 'SAME')\n",
    "    L1 = tf.nn.relu(L1)\n",
    "    L1 = tf.nn.max_pool(L1, ksize = [1, 2, 2, 1], strides = [1, 2, 2, 1], padding = 'SAME')\n",
    "    L1 = tf.nn.dropout(L1, keep_prob = keep_prob)\n",
    "\n",
    "    #두번째 레어이 입력 그림 크기 [-1, 14, 14, 32]\n",
    "    W2 = tf.Variable(tf.random_normal([3, 3, 32, 64], stddev = 0.01))\n",
    "\n",
    "    L2 = tf.nn.conv2d(L1, W2, strides = [1, 1, 1, 1], padding = 'SAME')\n",
    "    L2 = tf.nn.relu(L2)\n",
    "    L2 = tf.nn.max_pool(L2, ksize =[1, 2, 2, 1], strides = [1, 2, 2, 1], padding = 'SAME')\n",
    "    L2 = tf.nn.dropout(L2, keep_prob = keep_prob)\n",
    "\n",
    "    #세번째 레이어 입력 그림 크기 [-1, 7, 7, 64]\n",
    "    W3 = tf.Variable(tf.random_normal([3, 3, 64, 128], stddev = 0.01))\n",
    "\n",
    "    L3 = tf.nn.conv2d(L2, W3, strides = [1, 1, 1, 1], padding = 'SAME')\n",
    "    L3 = tf.nn.relu(L3)\n",
    "    L3 = tf.nn.max_pool(L3, ksize = [1, 2, 2, 1], strides = [1, 2, 2, 1], padding = 'SAME')\n",
    "    L3 = tf.nn.dropout(L3, keep_prob = keep_prob)\n",
    "\n",
    "    #펼치기\n",
    "    L3_flat = tf.reshape(L3, [-1, 4 * 4 * 128])\n",
    "\n",
    "    #네번째 레이어 여기서부터는 fully connected layer\n",
    "    W4 = tf.get_variable('W44dfsdfg444', shape = [4 * 4 * 128, 625], initializer = tf.contrib.layers.xavier_initializer())\n",
    "    b4 = tf.Variable(tf.random_normal([625]))\n",
    "    L4 = tf.nn.relu(tf.matmul(L3_flat, W4) + b4)\n",
    "    L4 = tf.nn.dropout(L4, keep_prob = keep_prob)\n",
    "\n",
    "    #다섯번째 레이어 (output layer)\n",
    "    W5 = tf.get_variable('W555dfsdfg55', shape = [625, 10], initializer = tf.contrib.layers.xavier_initializer())\n",
    "    b5 = tf.Variable(tf.random_normal([10]))\n",
    "    logits = tf.matmul(L4, W5) + b5\n",
    "\n",
    "    cost = tf.reduce_mean(tf.nn.softmax_cross_entropy_with_logits(\n",
    "        logits=logits, labels=Y))\n",
    "    optimizer = tf.train.AdamOptimizer(learning_rate=learning_rate).minimize(cost)\n",
    "\n",
    "    is_correct = tf.equal(tf.argmax(logits, 1), tf.argmax(Y, 1))\n",
    "    accuracy = tf.reduce_mean(tf.cast(is_correct, tf.float32))\n",
    "\n",
    "sess = tf.Session()\n",
    "sess.run(tf.global_variables_initializer())\n",
    "\n",
    "training_epochs = 15\n",
    "batch_size = 100\n",
    "for epoch in range(training_epochs):\n",
    "    avg_cost = 0\n",
    "    total_batch = int(mnist.train.num_examples / batch_size)\n",
    "    for i in range(total_batch):\n",
    "        batch_xs, batch_ys = mnist.train.next_batch(batch_size)\n",
    "        feed_dict = {X: batch_xs, Y: batch_ys, keep_prob : 0.7}\n",
    "        c, _= sess.run([cost, optimizer], feed_dict = feed_dict)\n",
    "        avg_cost += c / total_batch\n",
    "    print('epoch : {}, cost ={:.9f}'.format(epoch + 1, avg_cost))\n",
    "    \n",
    "print(\"Learning Finished\")\n",
    "\n",
    "print(\"Accuracy : \", sess.run(accuracy, feed_dict={X: mnist.test.images, Y: mnist.test.labels, keep_prob: 1}))"
   ]
  },
  {
   "cell_type": "markdown",
   "metadata": {
    "collapsed": true
   },
   "source": [
    "# 깔끔하게 클래스로 정리해보자"
   ]
  },
  {
   "cell_type": "code",
   "execution_count": 13,
   "metadata": {},
   "outputs": [
    {
     "name": "stdout",
     "output_type": "stream",
     "text": [
      "Learning Started\n",
      "Accuracy: 0.9595\n",
      "Epoch: 0001 cost = 0.000192349\n",
      "Accuracy: 0.9761\n",
      "Epoch: 0002 cost = 0.000280948\n",
      "Accuracy: 0.9809\n",
      "Epoch: 0003 cost = 0.000293787\n",
      "Accuracy: 0.9806\n",
      "Epoch: 0004 cost = 0.000243855\n",
      "Accuracy: 0.9842\n",
      "Epoch: 0005 cost = 0.000079354\n",
      "Accuracy: 0.9874\n",
      "Epoch: 0006 cost = 0.000158577\n",
      "Accuracy: 0.9871\n",
      "Epoch: 0007 cost = 0.000350457\n",
      "Accuracy: 0.9877\n",
      "Epoch: 0008 cost = 0.000013213\n",
      "Accuracy: 0.9878\n",
      "Epoch: 0009 cost = 0.000069880\n",
      "Accuracy: 0.9883\n",
      "Epoch: 0010 cost = 0.000084370\n",
      "Accuracy: 0.9886\n",
      "Epoch: 0011 cost = 0.000035500\n",
      "Accuracy: 0.9908\n",
      "Epoch: 0012 cost = 0.000160306\n",
      "Accuracy: 0.9903\n",
      "Epoch: 0013 cost = 0.000007620\n",
      "Accuracy: 0.9894\n",
      "Epoch: 0014 cost = 0.000051515\n",
      "Accuracy: 0.99\n",
      "Epoch: 0015 cost = 0.000019179\n",
      "Learning Finished!\n",
      "Accuracy: 0.99\n"
     ]
    }
   ],
   "source": [
    "tf.reset_default_graph()  \n",
    "class Model:\n",
    "    def __init__(self, sess, name):\n",
    "        self.sess = sess\n",
    "        self.name = name\n",
    "        self._build_net()\n",
    "        \n",
    "    def _build_net(self):\n",
    "        with tf.device('/cpu:0'): \n",
    "            with tf.variable_scope(self.name):\n",
    "                #input place holders\n",
    "                self.X = tf.placeholder(tf.float32, [None, 784])\n",
    "                # img 28X28X1 (black/white)\n",
    "                X_img = tf.reshape(self.X, [-1, 28, 28, 1])\n",
    "                self.Y = tf.placeholder(tf.float32, [None, 10])\n",
    "                self.keep_prob = tf.placeholder(tf.float32)\n",
    "                #L1 image shape = (-1, 28, 28 , 1)\n",
    "                #filter 3X3, 32개\n",
    "                W1 = tf.Variable(tf.random_normal([3, 3, 1, 32], stddev=0.01))\n",
    "                L1 = tf.nn.conv2d(X_img, W1, strides = [1, 1, 1, 1], padding = 'SAME')\n",
    "                L1 = tf.nn.relu(L1)\n",
    "                L1 = tf.nn.max_pool(L1, ksize = [1, 2, 2, 1], strides = [1, 2, 2, 1], padding = 'SAME')\n",
    "                L1 = tf.nn.dropout(L1, self.keep_prob)\n",
    "\n",
    "                W2 = tf.Variable(tf.random_normal([3, 3, 32, 64], stddev = 0.01))\n",
    "                L2 = tf.nn.conv2d(L1, W2, strides = [1, 1, 1, 1], padding = 'SAME')\n",
    "                L2 = tf.nn.relu(L2)\n",
    "                L2 = tf.nn.max_pool(L2, ksize = [1, 2, 2, 1], strides = [1, 2, 2, 1], padding = 'SAME')\n",
    "                L2 = tf.nn.dropout(L2, self.keep_prob)\n",
    "                L2_flat = tf.reshape(L2, [-1, 7 * 7 * 64])\n",
    "\n",
    "                W3 = tf.get_variable('W33322', shape = [7 * 7 * 64, 10], initializer = tf.contrib.layers.xavier_initializer())\n",
    "                b3 = tf.Variable(tf.random_normal([10]))\n",
    "                self.hypothesis = tf.matmul(L2_flat, W3) + b3\n",
    "\n",
    "                self.cost = tf.reduce_mean(tf.nn.softmax_cross_entropy_with_logits(logits = self.hypothesis, labels = self.Y))\n",
    "                self.optimizer = tf.train.AdamOptimizer(learning_rate = 0.001).minimize(self.cost)\n",
    "\n",
    "                is_correct = tf.equal(tf.argmax(self.hypothesis, 1), tf.argmax(self.Y, 1))\n",
    "                self.accuracy = tf.reduce_mean(tf.cast(is_correct, tf.float32))\n",
    "\n",
    "    def predict(self, x_test, keep_prop = 1.0):\n",
    "        return self.sess.run(self.hypothesis, feed_dict = {self.X: x_test, self.keep_prob : keep_prop})\n",
    "    \n",
    "    def get_accuracy(self, x_test, y_test, keep_prop = 1.0):\n",
    "        return self.sess.run(self.accuracy, feed_dict = {self.X: x_test, self.Y: y_test, self.keep_prob: keep_prop})\n",
    "    \n",
    "    def train(self, x_data, y_data, keep_prop = 0.7):\n",
    "        return self.sess.run([self.cost, self.optimizer], feed_dict = {self.X: x_data, self.Y: y_data, self.keep_prob: keep_prop})\n",
    "  \n",
    "sess = tf.Session()\n",
    "m1 = Model(sess, \"m1\")\n",
    "\n",
    "sess.run(tf.global_variables_initializer())\n",
    "\n",
    "print(\"Learning Started\")\n",
    "batch_size = 100\n",
    "training_epochs = 15\n",
    "\n",
    "for epoch in range(training_epochs):\n",
    "    avg_cost = 0\n",
    "    total_batch = int(mnist.train.num_examples / batch_size)\n",
    "    for i in range(total_batch):\n",
    "        batch_xs, batch_ys = mnist.train.next_batch(batch_size)\n",
    "        c, _ = m1.train(batch_xs, batch_ys)\n",
    "\n",
    "\n",
    "# Test model and check accuracy\n",
    "    print('Accuracy:', m1.get_accuracy(mnist.test.images, mnist.test.labels))\n",
    "    avg_cost = c / total_batch\n",
    "    print('Epoch:', '%04d' % (epoch + 1), 'cost =', '{:.9f}'.format(avg_cost))\n",
    "    \n",
    "print('Learning Finished!')\n",
    "\n",
    "# Test model and check accuracy\n",
    "print('Accuracy:', m1.get_accuracy(mnist.test.images, mnist.test.labels))\n"
   ]
  },
  {
   "cell_type": "code",
   "execution_count": 14,
   "metadata": {},
   "outputs": [
    {
     "name": "stdout",
     "output_type": "stream",
     "text": [
      "Extracting MNIST_data/train-images-idx3-ubyte.gz\n",
      "Extracting MNIST_data/train-labels-idx1-ubyte.gz\n",
      "Extracting MNIST_data/t10k-images-idx3-ubyte.gz\n",
      "Extracting MNIST_data/t10k-labels-idx1-ubyte.gz\n",
      "Learning Started!\n",
      "Epoch: 0001 cost = 0.378812422\n",
      "Epoch: 0002 cost = 0.097571050\n",
      "Epoch: 0003 cost = 0.072058503\n",
      "Epoch: 0004 cost = 0.058064553\n",
      "Epoch: 0005 cost = 0.052367773\n",
      "Epoch: 0006 cost = 0.046213146\n",
      "Epoch: 0007 cost = 0.041819994\n",
      "Epoch: 0008 cost = 0.038066109\n",
      "Epoch: 0009 cost = 0.035558408\n",
      "Epoch: 0010 cost = 0.032015040\n",
      "Epoch: 0011 cost = 0.032062165\n",
      "Epoch: 0012 cost = 0.030267638\n",
      "Epoch: 0013 cost = 0.027598319\n",
      "Epoch: 0014 cost = 0.027131635\n",
      "Epoch: 0015 cost = 0.025717429\n",
      "Learning Finished!\n",
      "Accuracy: 0.9922\n"
     ]
    }
   ],
   "source": [
    "import tensorflow as tf\n",
    "# import matplotlib.pyplot as plt\n",
    "\n",
    "from tensorflow.examples.tutorials.mnist import input_data\n",
    "\n",
    "tf.set_random_seed(777)  # reproducibility\n",
    "\n",
    "mnist = input_data.read_data_sets(\"MNIST_data/\", one_hot=True)\n",
    "# Check out https://www.tensorflow.org/get_started/mnist/beginners for\n",
    "# more information about the mnist dataset\n",
    "\n",
    "# hyper parameters\n",
    "learning_rate = 0.001\n",
    "training_epochs = 15\n",
    "batch_size = 100\n",
    "\n",
    "\n",
    "class Model:\n",
    "\n",
    "    def __init__(self, sess, name):\n",
    "        self.sess = sess\n",
    "        self.name = name\n",
    "        self._build_net()\n",
    "\n",
    "    def _build_net(self):\n",
    "        with tf.device('/cpu:0'): \n",
    "            with tf.variable_scope(self.name):\n",
    "                # dropout (keep_prob) rate  0.7~0.5 on training, but should be 1\n",
    "                # for testing\n",
    "                self.keep_prob = tf.placeholder(tf.float32)\n",
    "\n",
    "                # input place holders\n",
    "                self.X = tf.placeholder(tf.float32, [None, 784])\n",
    "                # img 28x28x1 (black/white)\n",
    "                X_img = tf.reshape(self.X, [-1, 28, 28, 1])\n",
    "                self.Y = tf.placeholder(tf.int32, [None, 10])\n",
    "\n",
    "                # L1 ImgIn shape=(?, 28, 28, 1)\n",
    "                W1 = tf.Variable(tf.random_normal([3, 3, 1, 32], stddev=0.01))\n",
    "                #    Conv     -> (?, 28, 28, 32)\n",
    "                #    Pool     -> (?, 14, 14, 32)\n",
    "                L1 = tf.nn.conv2d(X_img, W1, strides=[1, 1, 1, 1], padding='SAME')\n",
    "                L1 = tf.nn.relu(L1)\n",
    "                L1 = tf.nn.max_pool(L1, ksize=[1, 2, 2, 1],\n",
    "                                    strides=[1, 2, 2, 1], padding='SAME')\n",
    "                L1 = tf.nn.dropout(L1, keep_prob=self.keep_prob)\n",
    "                '''\n",
    "                Tensor(\"Conv2D:0\", shape=(?, 28, 28, 32), dtype=float32)\n",
    "                Tensor(\"Relu:0\", shape=(?, 28, 28, 32), dtype=float32)\n",
    "                Tensor(\"MaxPool:0\", shape=(?, 14, 14, 32), dtype=float32)\n",
    "                Tensor(\"dropout/mul:0\", shape=(?, 14, 14, 32), dtype=float32)\n",
    "                '''\n",
    "\n",
    "                # L2 ImgIn shape=(?, 14, 14, 32)\n",
    "                W2 = tf.Variable(tf.random_normal([3, 3, 32, 64], stddev=0.01))\n",
    "                #    Conv      ->(?, 14, 14, 64)\n",
    "                #    Pool      ->(?, 7, 7, 64)\n",
    "                L2 = tf.nn.conv2d(L1, W2, strides=[1, 1, 1, 1], padding='SAME')\n",
    "                L2 = tf.nn.relu(L2)\n",
    "                L2 = tf.nn.max_pool(L2, ksize=[1, 2, 2, 1],\n",
    "                                    strides=[1, 2, 2, 1], padding='SAME')\n",
    "                L2 = tf.nn.dropout(L2, keep_prob=self.keep_prob)\n",
    "                '''\n",
    "                Tensor(\"Conv2D_1:0\", shape=(?, 14, 14, 64), dtype=float32)\n",
    "                Tensor(\"Relu_1:0\", shape=(?, 14, 14, 64), dtype=float32)\n",
    "                Tensor(\"MaxPool_1:0\", shape=(?, 7, 7, 64), dtype=float32)\n",
    "                Tensor(\"dropout_1/mul:0\", shape=(?, 7, 7, 64), dtype=float32)\n",
    "                '''\n",
    "\n",
    "                # L3 ImgIn shape=(?, 7, 7, 64)\n",
    "                W3 = tf.Variable(tf.random_normal([3, 3, 64, 128], stddev=0.01))\n",
    "                #    Conv      ->(?, 7, 7, 128)\n",
    "                #    Pool      ->(?, 4, 4, 128)\n",
    "                #    Reshape   ->(?, 4 * 4 * 128) # Flatten them for FC\n",
    "                L3 = tf.nn.conv2d(L2, W3, strides=[1, 1, 1, 1], padding='SAME')\n",
    "                L3 = tf.nn.relu(L3)\n",
    "                L3 = tf.nn.max_pool(L3, ksize=[1, 2, 2, 1], strides=[\n",
    "                                    1, 2, 2, 1], padding='SAME')\n",
    "                L3 = tf.nn.dropout(L3, keep_prob=self.keep_prob)\n",
    "\n",
    "                L3_flat = tf.reshape(L3, [-1, 128 * 4 * 4])\n",
    "                '''\n",
    "                Tensor(\"Conv2D_2:0\", shape=(?, 7, 7, 128), dtype=float32)\n",
    "                Tensor(\"Relu_2:0\", shape=(?, 7, 7, 128), dtype=float32)\n",
    "                Tensor(\"MaxPool_2:0\", shape=(?, 4, 4, 128), dtype=float32)\n",
    "                Tensor(\"dropout_2/mul:0\", shape=(?, 4, 4, 128), dtype=float32)\n",
    "                Tensor(\"Reshape_1:0\", shape=(?, 2048), dtype=float32)\n",
    "                '''\n",
    "\n",
    "                # L4 FC 4x4x128 inputs -> 625 outputs\n",
    "                W4 = tf.get_variable(\"W4\", shape=[128 * 4 * 4, 625],\n",
    "                                     initializer=tf.contrib.layers.xavier_initializer())\n",
    "                b4 = tf.Variable(tf.random_normal([625]))\n",
    "                L4 = tf.nn.relu(tf.matmul(L3_flat, W4) + b4)\n",
    "                L4 = tf.nn.dropout(L4, keep_prob=self.keep_prob)\n",
    "                '''\n",
    "                Tensor(\"Relu_3:0\", shape=(?, 625), dtype=float32)\n",
    "                Tensor(\"dropout_3/mul:0\", shape=(?, 625), dtype=float32)\n",
    "                '''\n",
    "\n",
    "                # L5 Final FC 625 inputs -> 10 outputs\n",
    "                W5 = tf.get_variable(\"W5\", shape=[625, 10],\n",
    "                                     initializer=tf.contrib.layers.xavier_initializer())\n",
    "                b5 = tf.Variable(tf.random_normal([10]))\n",
    "                self.logits = tf.matmul(L4, W5) + b5\n",
    "                '''\n",
    "                Tensor(\"add_1:0\", shape=(?, 10), dtype=float32)\n",
    "                '''\n",
    "\n",
    "            # define cost/loss & optimizer\n",
    "            self.cost = tf.reduce_mean(tf.nn.softmax_cross_entropy_with_logits(\n",
    "                logits=self.logits, labels=self.Y))\n",
    "            self.optimizer = tf.train.AdamOptimizer(\n",
    "                learning_rate=learning_rate).minimize(self.cost)\n",
    "\n",
    "            correct_prediction = tf.equal(\n",
    "                tf.argmax(self.logits, 1), tf.argmax(self.Y, 1))\n",
    "            self.accuracy = tf.reduce_mean(tf.cast(correct_prediction, tf.float32))\n",
    "\n",
    "    def predict(self, x_test, keep_prop=1.0):\n",
    "        return self.sess.run(self.logits, feed_dict={self.X: x_test, self.keep_prob: keep_prop})\n",
    "\n",
    "    def get_accuracy(self, x_test, y_test, keep_prop=1.0):\n",
    "        return self.sess.run(self.accuracy, feed_dict={self.X: x_test, self.Y: y_test, self.keep_prob: keep_prop})\n",
    "\n",
    "    def train(self, x_data, y_data, keep_prop=0.7):\n",
    "        return self.sess.run([self.cost, self.optimizer], feed_dict={\n",
    "            self.X: x_data, self.Y: y_data, self.keep_prob: keep_prop})\n",
    "\n",
    "# initialize\n",
    "tf.reset_default_graph()\n",
    "sess = tf.Session()\n",
    "m1 = Model(sess, \"m1\")\n",
    "sess.run(tf.global_variables_initializer())\n",
    "\n",
    "print('Learning Started!')\n",
    "\n",
    "# train my model\n",
    "for epoch in range(training_epochs):\n",
    "    avg_cost = 0\n",
    "    total_batch = int(mnist.train.num_examples / batch_size)\n",
    "\n",
    "    for i in range(total_batch):\n",
    "        batch_xs, batch_ys = mnist.train.next_batch(batch_size)\n",
    "        c, _ = m1.train(batch_xs, batch_ys)\n",
    "        avg_cost += c / total_batch\n",
    "\n",
    "    print('Epoch:', '%04d' % (epoch + 1), 'cost =', '{:.9f}'.format(avg_cost))\n",
    "\n",
    "print('Learning Finished!')\n",
    "\n",
    "# Test model and check accuracy\n",
    "print('Accuracy:', m1.get_accuracy(mnist.test.images, mnist.test.labels))\n"
   ]
  },
  {
   "cell_type": "markdown",
   "metadata": {},
   "source": [
    "# tf.layers 사용 하기"
   ]
  },
  {
   "cell_type": "code",
   "execution_count": 22,
   "metadata": {},
   "outputs": [
    {
     "name": "stdout",
     "output_type": "stream",
     "text": [
      "Learning Started!\n",
      "Epoch: 0001 cost = 0.785548373\n",
      "Epoch: 0002 cost = 0.288520149\n",
      "Epoch: 0003 cost = 0.223680990\n",
      "Epoch: 0004 cost = 0.199448597\n",
      "Epoch: 0005 cost = 0.183421938\n",
      "Epoch: 0006 cost = 0.169799375\n",
      "Epoch: 0007 cost = 0.159838426\n",
      "Epoch: 0008 cost = 0.155815215\n",
      "Epoch: 0009 cost = 0.153099418\n",
      "Epoch: 0010 cost = 0.147347535\n",
      "Epoch: 0011 cost = 0.144086822\n",
      "Epoch: 0012 cost = 0.140462462\n",
      "Epoch: 0013 cost = 0.139439983\n",
      "Epoch: 0014 cost = 0.137537991\n",
      "Epoch: 0015 cost = 0.135450478\n",
      "Learning Finished!\n",
      "Accuracy: 0.9896\n"
     ]
    }
   ],
   "source": [
    "class Model:\n",
    "\n",
    "    def __init__(self, sess, name):\n",
    "        self.sess = sess\n",
    "        self.name = name\n",
    "        self._build_net()\n",
    "\n",
    "    def _build_net(self):\n",
    "        with tf.variable_scope(self.name):\n",
    "            # dropout (keep_prob) rate  0.7~0.5 on training, but should be 1\n",
    "            # for testing\n",
    "            self.training = tf.placeholder(tf.bool)\n",
    "\n",
    "            # input place holders\n",
    "            self.X = tf.placeholder(tf.float32, [None, 784])\n",
    "\n",
    "            # img 28x28x1 (black/white), Input Layer\n",
    "            X_img = tf.reshape(self.X, [-1, 28, 28, 1])\n",
    "            self.Y = tf.placeholder(tf.float32, [None, 10])\n",
    "            #첫번째 레이어 입력 그림 크기 [-1, 28, 28, 1]\n",
    "            #W1 = tf.Variable(tf.random_normal([3, 3, 1, 32], stddev = 0.35))\n",
    "\n",
    "            #L1 = tf.nn.conv2d(X_img, W1, strides = [1, 1, 1, 1], padding = 'SAME')\n",
    "            #L1 = tf.nn.relu(L1)\n",
    "            #L1 = tf.nn.max_pool(L1, ksize = [1, 2, 2, 1], strides = [1, 2, 2, 1], padding = 'SAME')\n",
    "            #L1 = tf.nn.dropout(L1, keep_prob)\n",
    "            conv1 = tf.layers.conv2d(inputs=X_img, filters=32, kernel_size=[3, 3],\n",
    "                                     padding=\"SAME\", activation=tf.nn.relu)\n",
    "            # Pooling Layer #1\n",
    "            pool1 = tf.layers.max_pooling2d(inputs=conv1, pool_size=[2, 2],\n",
    "                                            padding=\"SAME\", strides=2)\n",
    "            dropout1 = tf.layers.dropout(inputs=pool1,\n",
    "                                         rate=0.7, training=self.training)\n",
    "\n",
    "            #두번째 레어이 입력 그림 크기 [-1, 14, 14, 32]\n",
    "            conv2 = tf.layers.conv2d(inputs=dropout1, filters=64, kernel_size=[3, 3],\n",
    "                                     padding=\"SAME\", activation=tf.nn.relu)\n",
    "            pool2 = tf.layers.max_pooling2d(inputs=conv2, pool_size=[2, 2],\n",
    "                                            padding=\"SAME\", strides=2)\n",
    "            dropout2 = tf.layers.dropout(inputs=pool2,\n",
    "                                         rate=0.7, training=self.training)\n",
    "\n",
    "            # Convolutional Layer #2 and Pooling Layer #2\n",
    "            conv3 = tf.layers.conv2d(inputs=dropout2, filters=128, kernel_size=[3, 3],\n",
    "                                     padding=\"same\", activation=tf.nn.relu)\n",
    "            pool3 = tf.layers.max_pooling2d(inputs=conv3, pool_size=[2, 2],\n",
    "                                            padding=\"same\", strides=2)\n",
    "            dropout3 = tf.layers.dropout(inputs=pool3,\n",
    "                                         rate=0.7, training=self.training)\n",
    "            #세번째 레이어 입력 그림 크기 [-1, 7, 7, 64]\n",
    "            #W3 = tf.Variable(tf.random_normal([3, 3, 64, 128], stddev = 0.35))\n",
    "\n",
    "            #L3 = tf.nn.conv2d(L2, W3, strides = [1, 1, 1, 1], padding = 'SAME')\n",
    "            #L3 = tf.nn.relu(L3)\n",
    "            #L3 = tf.nn.max_pool(L3, ksize = [1, 2, 2, 1], strides = [1, 2, 2, 1], padding = 'SAME')\n",
    "            #L3 = tf.nn.dropout(L3, keep_prob)\n",
    "\n",
    "            #펼치기\n",
    "            #L3 = tf.reshape(L3, [-1, 4 * 4 * 128])\n",
    "            flat = tf.reshape(dropout3, [-1, 128 * 4 * 4])\n",
    "            dense4 = tf.layers.dense(inputs=flat,\n",
    "                                     units=625, activation=tf.nn.relu)\n",
    "            dropout4 = tf.layers.dropout(inputs=dense4,\n",
    "                                         rate=0.5, training=self.training)\n",
    "            #네번째 레이어 여기서부터는 fully connected layer\n",
    "            # = tf.get_variable('W444444444', shape = [4 * 4 * 128, 512], initializer = tf.contrib.layers.xavier_initializer())\n",
    "            #b4 = tf.Variable(tf.random_normal([512]))\n",
    "            #L4 = tf.nn.relu(tf.matmul(L3, W4) + b4)\n",
    "            #L4 = tf.nn.dropout(L4, keep_prob)\n",
    "\n",
    "\n",
    "                #다섯번째 레이어 (output layer)\n",
    "            # Logits (no activation) Layer: L5 Final FC 625 inputs -> 10 outputs\n",
    "            self.logits = tf.layers.dense(inputs=dropout4, units=10)\n",
    "\n",
    "        self.cost = tf.reduce_mean(tf.nn.softmax_cross_entropy_with_logits(\n",
    "            logits=self.logits, labels=self.Y))\n",
    "        self.optimizer = tf.train.AdamOptimizer(\n",
    "            learning_rate=learning_rate).minimize(self.cost)\n",
    "\n",
    "        correct_prediction = tf.equal(\n",
    "            tf.argmax(self.logits, 1), tf.argmax(self.Y, 1))\n",
    "        self.accuracy = tf.reduce_mean(tf.cast(correct_prediction, tf.float32))\n",
    "\n",
    "    def predict(self, x_test, training=False):\n",
    "        return self.sess.run(self.logits,\n",
    "                             feed_dict={self.X: x_test, self.training: training})\n",
    "\n",
    "    def get_accuracy(self, x_test, y_test, training=False):\n",
    "        return self.sess.run(self.accuracy,\n",
    "                             feed_dict={self.X: x_test,\n",
    "                                        self.Y: y_test, self.training: training})\n",
    "\n",
    "    def train(self, x_data, y_data, training=True):\n",
    "        return self.sess.run([self.cost, self.optimizer], feed_dict={\n",
    "            self.X: x_data, self.Y: y_data, self.training: training})\n",
    "\n",
    "# initialize\n",
    "sess = tf.Session()\n",
    "m1 = Model(sess, \"m1\")\n",
    "\n",
    "sess.run(tf.global_variables_initializer())\n",
    "\n",
    "print('Learning Started!')\n",
    "\n",
    "# train model\n",
    "for epoch in range(training_epochs):\n",
    "    avg_cost = 0\n",
    "    total_batch = int(mnist.train.num_examples / batch_size)\n",
    "\n",
    "    for i in range(total_batch):\n",
    "        batch_xs, batch_ys = mnist.train.next_batch(batch_size)\n",
    "        c, _ = m1.train(batch_xs, batch_ys)\n",
    "        avg_cost += c / total_batch\n",
    "\n",
    "    print('Epoch:', '%04d' % (epoch + 1), 'cost =', '{:.9f}'.format(avg_cost))\n",
    "\n",
    "print('Learning Finished!')\n",
    "\n",
    "# Test model and check accuracy\n",
    "print('Accuracy:', m1.get_accuracy(mnist.test.images, mnist.test.labels))"
   ]
  },
  {
   "cell_type": "markdown",
   "metadata": {},
   "source": [
    "# EMSAMBLE 기법"
   ]
  },
  {
   "cell_type": "code",
   "execution_count": 24,
   "metadata": {},
   "outputs": [
    {
     "name": "stdout",
     "output_type": "stream",
     "text": [
      "Learning Started\n",
      "Epochs: 1, cost = [ 0.78337299  0.7938922   0.77710948  0.73435991  0.77114539  0.778057\n",
      "  0.79685929]\n",
      "Epochs: 2, cost = [ 0.29119053  0.29428074  0.28761703  0.28196989  0.30176739  0.2945587\n",
      "  0.29072685]\n",
      "Epochs: 3, cost = [ 0.22999426  0.22924941  0.23091461  0.22841602  0.23539838  0.23160297\n",
      "  0.23555018]\n",
      "Epochs: 4, cost = [ 0.20149169  0.20306007  0.20052233  0.20126843  0.20691201  0.20280772\n",
      "  0.20211805]\n",
      "Epochs: 5, cost = [ 0.18448889  0.18335787  0.18101145  0.18478252  0.18989673  0.18422249\n",
      "  0.18489431]\n",
      "Epochs: 6, cost = [ 0.17294098  0.16864001  0.17132215  0.17117819  0.1761551   0.17386172\n",
      "  0.17220481]\n",
      "Epochs: 7, cost = [ 0.16380435  0.16255926  0.16318649  0.16175567  0.16777165  0.16798122\n",
      "  0.1671454 ]\n",
      "Epochs: 8, cost = [ 0.15577197  0.15601921  0.15479789  0.15488251  0.16068699  0.15975276\n",
      "  0.15540151]\n",
      "Epochs: 9, cost = [ 0.15144436  0.14955287  0.14808967  0.15225134  0.15004586  0.1549234\n",
      "  0.15135788]\n",
      "Epochs: 10, cost = [ 0.15071562  0.14543124  0.14490577  0.14903639  0.14717427  0.14980403\n",
      "  0.14454059]\n",
      "Epochs: 11, cost = [ 0.14694503  0.14383254  0.14332684  0.14524351  0.14439227  0.14595055\n",
      "  0.14651085]\n",
      "Epochs: 12, cost = [ 0.13935482  0.1383159   0.14062904  0.14504234  0.14101088  0.14334702\n",
      "  0.14363206]\n",
      "Epochs: 13, cost = [ 0.13921015  0.13939494  0.13676061  0.14176996  0.14201011  0.14115743\n",
      "  0.13791995]\n",
      "Epochs: 14, cost = [ 0.13435627  0.13477021  0.13401647  0.1392173   0.13883966  0.14181619\n",
      "  0.13486901]\n",
      "Epochs: 15, cost = [ 0.13907042  0.13446938  0.13382737  0.13533441  0.13634379  0.13611439\n",
      "  0.13297606]\n"
     ]
    }
   ],
   "source": [
    "models = []\n",
    "num_models = 7\n",
    "sess = tf.Session()\n",
    "for m in range(num_models):\n",
    "    models.append(Model(sess, \"model\" + str(m)))\n",
    "sess.run(tf.global_variables_initializer())\n",
    "print('Learning Started')\n",
    "\n",
    "for epoch in range(training_epochs):\n",
    "    avg_cost_list = np.zeros(len(models))\n",
    "    total_batch = int(mnist.train.num_examples / batch_size)\n",
    "    for i in range(total_batch):\n",
    "        batch_xs, batch_ys = mnist.train.next_batch(batch_size)\n",
    "        for m_idx, m in enumerate(models):\n",
    "            c, _ = m.train(batch_xs, batch_ys)\n",
    "            avg_cost_list[m_idx] += c / total_batch\n",
    "    print('Epochs: {}, cost = {}'.format(epoch + 1, avg_cost_list))"
   ]
  },
  {
   "cell_type": "markdown",
   "metadata": {},
   "source": [
    "# emsamble prediction\n",
    "- 다양한 기법 존재 \n",
    "- 여기서는 결과들을 단순히 합하여 argmax로 점수가 가장 높은 것을 결과로 잡는다"
   ]
  },
  {
   "cell_type": "code",
   "execution_count": 28,
   "metadata": {},
   "outputs": [
    {
     "name": "stdout",
     "output_type": "stream",
     "text": [
      "0 Accuracy: 0.9895\n",
      "1 Accuracy: 0.9905\n",
      "2 Accuracy: 0.9887\n",
      "3 Accuracy: 0.9893\n",
      "4 Accuracy: 0.9899\n",
      "5 Accuracy: 0.9892\n",
      "6 Accuracy: 0.9897\n",
      "앙상블 정확도 : 0.9908999800682068\n"
     ]
    }
   ],
   "source": [
    "test_size = len(mnist.test.labels)\n",
    "predictions = np.zeros(test_size * 10).reshape(test_size, 10)\n",
    "\n",
    "for m_idx, m in enumerate(models):\n",
    "    print(m_idx, 'Accuracy:', m.get_accuracy(mnist.test.images, mnist.test.labels))\n",
    "    o = m.predict(mnist.test.images)\n",
    "    predictions += o\n",
    "\n",
    "emsemble_correct_prediction = tf.equal(tf.argmax(predictions, 1), tf.argmax(mnist.test.labels, 1))\n",
    "emsemble_accuracy = tf.reduce_mean(tf.cast(emsemble_correct_prediction, tf.float32))\n",
    "print(\"앙상블 정확도 : {}\".format(sess.run(emsemble_accuracy)))\n"
   ]
  },
  {
   "cell_type": "code",
   "execution_count": null,
   "metadata": {
    "collapsed": true
   },
   "outputs": [],
   "source": []
  }
 ],
 "metadata": {
  "kernelspec": {
   "display_name": "Python 3",
   "language": "python",
   "name": "python3"
  },
  "language_info": {
   "codemirror_mode": {
    "name": "ipython",
    "version": 3
   },
   "file_extension": ".py",
   "mimetype": "text/x-python",
   "name": "python",
   "nbconvert_exporter": "python",
   "pygments_lexer": "ipython3",
   "version": "3.6.0"
  }
 },
 "nbformat": 4,
 "nbformat_minor": 2
}
